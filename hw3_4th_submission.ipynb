{
  "cells": [
    {
      "cell_type": "markdown",
      "metadata": {
        "id": "qtbWSR3gUNgP"
      },
      "source": [
        "<a href=\"https://colab.research.google.com/github/mottaquikarim/PYTH2/blob/master/src/PSETS/nb/homework_3_loops.ipynb\" target=\"_parent\"><img src=\"https://colab.research.google.com/assets/colab-badge.svg\" alt=\"Open In Colab\"/></a>"
      ]
    },
    {
      "cell_type": "markdown",
      "metadata": {
        "id": "BQPvEpdTUNgV"
      },
      "source": [
        "#  LOOPS\n",
        "\n",
        "## LOOP_BASICS\n",
        "\n",
        "### P1.PY\n",
        "\n",
        "\n"
      ]
    },
    {
      "cell_type": "code",
      "execution_count": null,
      "metadata": {
        "id": "7Hlu2xIDUNgX",
        "colab": {
          "base_uri": "https://localhost:8080/"
        },
        "outputId": "d1e5963d-3737-4513-d8c5-fb59d38f3d5d"
      },
      "outputs": [
        {
          "output_type": "stream",
          "name": "stdout",
          "text": [
            "[1, 3, 5, 7, 9] \n",
            " [2, 4, 6, 8, 10]\n"
          ]
        }
      ],
      "source": [
        "\"\"\"\n",
        "Odds & Evens\n",
        "\"\"\"\n",
        "\n",
        "# Use a loop to make a list of all odd numbers between 1 and 10 and another list with all the evens. When done, print the lists.\n",
        "\n",
        "# odds =\n",
        "\n",
        "# evens =\n",
        "\n",
        "#this is directly from the class work, but essentially want to define odds and evens as blank lists. establish the starting point for a element. then create a while loop that runs from element (1) to the last stopping point (10).\n",
        "#then use if functions to define that if when the element has any remainder if divided by 2 that does not = 2 it should be appendeded for odds and then just add 1 to all of the odd numbers to derive at the even number list\n",
        "\n",
        "odds = []\n",
        "\n",
        "evens = []\n",
        "\n",
        "x = 1\n",
        "\n",
        "while x <= 10:\n",
        "  if x % 2 != 0:\n",
        "    odds.append(x)\n",
        "  else:\n",
        "    evens.append(x)\n",
        "  x += 1\n",
        "\n",
        "print(odds,'\\n', evens)"
      ]
    },
    {
      "cell_type": "markdown",
      "metadata": {
        "id": "IDnWPN3dUNgZ"
      },
      "source": [
        "\n",
        "\n",
        "### P2.PY\n",
        "\n",
        "\n"
      ]
    },
    {
      "cell_type": "code",
      "execution_count": null,
      "metadata": {
        "id": "cd_C_bAAUNga",
        "colab": {
          "base_uri": "https://localhost:8080/"
        },
        "outputId": "4f2b65e0-97de-4c9c-809f-6a1914274459"
      },
      "outputs": [
        {
          "output_type": "stream",
          "name": "stdout",
          "text": [
            "[2, 4, 10, 20, 5, 2, 20, 4]\n",
            "[2, 4, 10, 20, 5]\n",
            "[2, 4, 10, 20, 5, 13, 25, 8]\n"
          ]
        }
      ],
      "source": [
        "\"\"\"\n",
        "Lists with Duplicates\n",
        "\"\"\"\n",
        "\n",
        "# First, print list a below as it is now.\n",
        "\n",
        "a = [2, 4, 10, 20, 5, 2, 20, 4]\n",
        "b = [13, 2, 25, 20, 4, 8]\n",
        "\n",
        "print(a)\n",
        "\n",
        "# Using a loop, remove the duplicate items from list a and print out the updated list.\n",
        "#define the new list with duplicates removed\n",
        "#write a loop - choosing to use for loop. for a element in a, it will be put in the new list and if it's already there, it will be removed.\n",
        "\n",
        "rem_dup = []\n",
        "\n",
        "for i in a:\n",
        "  if i not in rem_dup:\n",
        "    rem_dup.append(i)\n",
        "\n",
        "print(rem_dup)\n",
        "\n",
        "\n",
        "# Using a loop, merge list b into list a without adding any duplicates.\n",
        "#i am going to extend the updated list with list b then write the same exact function to remove all new duplicates -- not the most efficient way of doing it. literally just need to do the same exact function to achieve it but with list b :)\n",
        "\n",
        "#rem_dup.extend(b)\n",
        "\n",
        "#full_no_dup = []\n",
        "\n",
        "#for i in rem_dup:\n",
        "  #if i not in full_no_dup:\n",
        "   # full_no_dup.append(i)\n",
        "\n",
        "#print(full_no_dup)\n",
        "\n",
        "for i in b:\n",
        "  if i not in rem_dup:\n",
        "    rem_dup.append(i)\n",
        "\n",
        "print(rem_dup)\n"
      ]
    },
    {
      "cell_type": "markdown",
      "metadata": {
        "id": "kvcwtoJcUNga"
      },
      "source": [
        "\n",
        "\n",
        "### P3.PY\n",
        "\n",
        "\n"
      ]
    },
    {
      "cell_type": "code",
      "execution_count": null,
      "metadata": {
        "id": "Agp91fbYUNgb",
        "colab": {
          "base_uri": "https://localhost:8080/"
        },
        "outputId": "dc8368bb-459e-49dd-b2ab-dd12f6836d80"
      },
      "outputs": [
        {
          "output_type": "stream",
          "name": "stdout",
          "text": [
            "[22.0, 28.0, 33.0, 42.0, 52.0]\n",
            "{'Daily Temps in Farenheit': [71.6, 82.4, 91.4, 107.6, 125.6], 'Daily Temps in Celsius': [22.0, 28.0, 33.0, 42.0, 52.0]}\n"
          ]
        }
      ],
      "source": [
        "\"\"\"\n",
        "Temperature Conversions\n",
        "\"\"\"\n",
        "\n",
        "# You're studying climate change, and over the last 3 years, you've recorded the temperature at noon every day in degrees Fahrenheit (F). The var sampleF holds a portion of those recordings.\n",
        "\n",
        "sampleF = [71.6, 82.4, 91.4, 107.6, 125.6]\n",
        "\n",
        "# Convert each item in this list into degrees Celsius and add the results to a dict called sample_temps so that the conversion of each day's temperature is easily accessible. For reference, the conversion equation between F and C is:\n",
        "# Celsius = (Fahrenheit - 32) * 5.0/9.0\n",
        "\n",
        "#define a new list for celsius\n",
        "#write a for loop that calculates all elemtns of F using the conversion to C and then add the calculated elemtns to the celsius list\n",
        "#I used a round function to round to the 1st decimal place.\n",
        "\n",
        "sampleC = []\n",
        "\n",
        "for f in sampleF:\n",
        "\n",
        "  c = round((f - 32) * 5.0/9.0, 1)\n",
        "\n",
        "  sampleC.append(c)\n",
        "\n",
        "print(sampleC)\n",
        "\n",
        "# sample_temps =\n",
        "\n",
        "sample_temps = {\n",
        "    'Daily Temps in Farenheit' : sampleF,\n",
        "    'Daily Temps in Celsius' : sampleC\n",
        "}\n",
        "\n",
        "print(sample_temps)\n",
        "\n",
        "#unsure if you wanted it broken by days and then each value, just celsius or both the F and C so I just broked down as the F and C lists"
      ]
    },
    {
      "cell_type": "markdown",
      "metadata": {
        "id": "1VDiqhvZUNgc"
      },
      "source": [
        "\n",
        "\n",
        "### P4.PY\n",
        "\n",
        "\n"
      ]
    },
    {
      "cell_type": "code",
      "execution_count": null,
      "metadata": {
        "id": "nGu0ZmtwUNgd",
        "colab": {
          "base_uri": "https://localhost:8080/"
        },
        "outputId": "78800faf-766d-4e74-8e35-ef1404706804"
      },
      "outputs": [
        {
          "output_type": "stream",
          "name": "stdout",
          "text": [
            "Enter a number to find its factorial: 8\n",
            "8 != 40320\n"
          ]
        }
      ],
      "source": [
        "\"\"\"\n",
        "Factorial\n",
        "\"\"\"\n",
        "\n",
        "# Find the factorial of a number input by a user. Then print out the factors within the factorial and then print out the actual numeric answer. Hint: The formula for a factorial is n! = (n-1)*n.\n",
        "\n",
        "\n",
        "# Example output:\n",
        "\"\"\"\n",
        "8! = 8*7*6*5*4*3*2*1\n",
        "8! = 40320\n",
        "\"\"\"\n",
        "\n",
        "#def factorial(user_input):\n",
        "#  n! = (n-1) * n\n",
        "#  return fact\n",
        "\n",
        "\n",
        "#user_input = input('Enter a number to find its factorial: ')\n",
        "\n",
        "def factorial(user_input):\n",
        "  if user_input==1:\n",
        "    return user_input\n",
        "  else:\n",
        "    return user_input * factorial(user_input-1)\n",
        "\n",
        "user_input = int(input('Enter a number to find its factorial: ')) #needed to add int to make it work.\n",
        "\n",
        "#print(eval(factorial(user_input)))\n",
        "print(user_input, '!=', factorial(user_input))\n",
        "\n"
      ]
    },
    {
      "cell_type": "code",
      "source": [
        "# Example output:\n",
        "\"\"\"\n",
        "8! = 8*7*6*5*4*3*2*1\n",
        "8! = 40320\n",
        "\"\"\"\n",
        "\n",
        "#def factorial(user_input):\n",
        "#  n! = (n-1) * n\n",
        "#  return fact\n",
        "\n",
        "\n",
        "#user_input = input('Enter a number to find its factorial: ')\n",
        "\n",
        "#define the factorial function and then outline that if 1, it's equal to 1 and in all other situations,\n",
        "\n",
        "def factorial(n):\n",
        "  if n<1:\n",
        "    return 'n must be a positive integer'\n",
        "  elif n==1:\n",
        "    return n\n",
        "  else:\n",
        "    return n * factorial(n-1)\n",
        "\n",
        "x = 8\n",
        "\n",
        "print(factorial(x))\n",
        "\n",
        "#I cannot figure out how to print the formula itself, not sure if that needs to be defined in the function or after but I tried using (eval) then got error not using str so I added that too and it just returned the actual answer of the factorial. I am going to continue to work on the above prompt using input"
      ],
      "metadata": {
        "colab": {
          "base_uri": "https://localhost:8080/"
        },
        "id": "STbvUvKJ4Rzq",
        "outputId": "50639f26-a430-476e-a242-8ab97362ee1f"
      },
      "execution_count": null,
      "outputs": [
        {
          "output_type": "stream",
          "name": "stdout",
          "text": [
            "40320\n"
          ]
        }
      ]
    },
    {
      "cell_type": "markdown",
      "metadata": {
        "id": "Y_eYBR_CUNgd"
      },
      "source": [
        "\n",
        "\n",
        "### P5.PY\n",
        "\n",
        "\n"
      ]
    },
    {
      "cell_type": "code",
      "execution_count": null,
      "metadata": {
        "id": "3IvN8ulVUNge",
        "colab": {
          "base_uri": "https://localhost:8080/"
        },
        "outputId": "aba264be-209b-4000-c815-978fce894959"
      },
      "outputs": [
        {
          "output_type": "stream",
          "name": "stdout",
          "text": [
            "Enter a number to find its factors: 50\n",
            "The factors of 50 are:\n",
            "1 2 5 10 25 50 \n"
          ]
        }
      ],
      "source": [
        "\"\"\"\n",
        "Factors\n",
        "\"\"\"\n",
        "\n",
        "# Find all factors of a number that a user inputs and print out 'The factors of <the_user_input_number> are: '.\n",
        "\n",
        "def factor(user_input): #defining factor based on input)\n",
        "  n = 1 #assigning value to variagble\n",
        "  while n <= user_input:\n",
        "      if (user_input % n==0):\n",
        "        print(n, end=' ')\n",
        "      n = n + 1\n",
        "  else:\n",
        "    return ''\n",
        "\n",
        "user_input = int(input('Enter a number to find its factors: '))\n",
        "\n",
        "print('The factors of', user_input, 'are:')\n",
        "print(factor(user_input))\n",
        "\n",
        "#i could not get it print correctly when trying to write one formatted print function so I had to divide it up."
      ]
    },
    {
      "cell_type": "markdown",
      "metadata": {
        "id": "2vdmqVaHUNge"
      },
      "source": [
        "\n",
        "\n",
        "### P6.PY\n",
        "\n",
        "\n"
      ]
    },
    {
      "cell_type": "code",
      "execution_count": null,
      "metadata": {
        "id": "GPruGiL3UNgf",
        "colab": {
          "base_uri": "https://localhost:8080/"
        },
        "outputId": "5eae52e6-bb39-4150-ad76-136fc4941653"
      },
      "outputs": [
        {
          "output_type": "stream",
          "name": "stdout",
          "text": [
            "Enter two numbers to find their greatest common denominator.\n",
            "First number: 25\n",
            "Second number: 132\n",
            "The GCD of 25 and 132 is 1\n"
          ]
        }
      ],
      "source": [
        "\"\"\"\n",
        "GCD\n",
        "\"\"\"\n",
        "\n",
        "# Find the greatest common denominator (GCD) of two number input by a user. Then print out 'The GCD of <first number> and <second number> is <your result>.'\n",
        "\n",
        "#define GCD function using inputs 1 & 2\n",
        "#using the while loop, it is looking for input 1 to be equal to 2 and runs until 2 is equal to 0 and then returns input 1 at that stage\n",
        "\n",
        "print('Enter two numbers to find their greatest common denominator.')\n",
        "\n",
        "def GCD(user_input1, user_input2):\n",
        "    while user_input2 != 0:\n",
        "        (user_input1, user_input2) = (user_input2, user_input1 % user_input2)\n",
        "    return user_input1\n",
        "\n",
        "user_input1 = int(input('First number: '))\n",
        "user_input2 = int(input('Second number: '))\n",
        "\n",
        "print(f'The GCD of', user_input1, 'and', user_input2, 'is', GCD(user_input1, user_input2))"
      ]
    },
    {
      "cell_type": "markdown",
      "metadata": {
        "id": "N4i7bCxiUNgf"
      },
      "source": [
        "\n",
        "\n",
        "## DICT_LOOPS\n",
        "\n",
        "### P1.PY\n",
        "\n",
        "\n"
      ]
    },
    {
      "cell_type": "code",
      "execution_count": 168,
      "metadata": {
        "id": "EmN2tkT4UNgg",
        "colab": {
          "base_uri": "https://localhost:8080/"
        },
        "outputId": "06f2deb5-b3da-4f91-bc87-a2d22fc754a5"
      },
      "outputs": [
        {
          "output_type": "stream",
          "name": "stdout",
          "text": [
            "{'Jamie': '11921680143', 'Kartik': '18372091121', 'Grant': '18263861758', 'Brandon': '19352979447', 'Monique': '17027165353', 'Sohom': '15766196100'}\n"
          ]
        }
      ],
      "source": [
        "\"\"\"\n",
        "Contacts\n",
        "\"\"\"\n",
        "\n",
        "# You went to a conference and got people to sign up for text updates from your startup. Go through this dict to make the phone numbers readable to a computer.\n",
        "\n",
        "# Hint: It can't include any non-numeric\n",
        "# characters.\n",
        "\n",
        "contacts = {\n",
        "\t'Jamie': '1.192.168.0143',\n",
        "\t'Kartik': '1.837.209.1121',\n",
        "\t'Grant': '1.826.386.1758',\n",
        "\t'Brandon': '1.935.297.9447',\n",
        "\t'Monique': '1.702.716.5353',\n",
        "\t'Sohom': '1.576.619.6100',\n",
        "}\n",
        "\n",
        "#i know we went through this at the beginning of class and worked through it with myself as the person solving, but I cannot locate that. therefore I'm converting to string in order to remove periods.\n",
        "string_contacts = str(contacts)\n",
        "\n",
        "def non_numeric(string_contacts):\n",
        "\tdot = '.'\n",
        "\twhile dot in string_contacts:\n",
        "\t\treturn string_contacts.replace(dot, '')\n",
        "\n",
        "print(non_numeric(string_contacts))\n"
      ]
    },
    {
      "cell_type": "markdown",
      "metadata": {
        "id": "ygNVdD4FUNgg"
      },
      "source": [
        "\n",
        "\n",
        "### P2.PY\n",
        "\n",
        "\n"
      ]
    },
    {
      "cell_type": "code",
      "execution_count": 188,
      "metadata": {
        "id": "_Boy6hN_UNgj",
        "colab": {
          "base_uri": "https://localhost:8080/"
        },
        "outputId": "0322141e-1ab7-4a16-b040-ee1bdd772448"
      },
      "outputs": [
        {
          "output_type": "stream",
          "name": "stdout",
          "text": [
            "{}\n"
          ]
        }
      ],
      "source": [
        "\"\"\"\n",
        "Grades\n",
        "\"\"\"\n",
        "# Here's a dict containing students' grades from the semester's assignments.\n",
        "\n",
        "students = {\n",
        "  'Ashton': [86, 45, 98, 100],\n",
        "  'Sierra': [100, 100, 100, 100],\n",
        "  'Zach': [38, 49, 90, 87],\n",
        "  'Manuel': [98, 92, 86, 100],\n",
        "  'Felicia': [94, 87, 89, 95],\n",
        "  'Ankur': [75, 77, 77, 85],\n",
        "  'Ananya': [98, 94, 87, 92],\n",
        "  'Nick': [79, 84, 89, 90],\n",
        "  'Olivia': [83, 91, 69, 85],\n",
        "  'Molly': [83, 74, 72, 90]\n",
        "}\n",
        "\n",
        "# p 1.1) Create a dict called num_grades to store each student's average numerical grade for the semester.\n",
        "\n",
        "# num_grades =\n",
        "\n",
        "def average_grades(students):\n",
        "    num_grades = {}\n",
        "    for k, v in students.items():\n",
        "         num_grades[k] = sum(v)/ float(len(v))\n",
        "    return num_grades\n",
        "\n",
        "print(num_grades) #this is not working\n",
        "\n",
        "# p 1.2) Create a dict called letter_grades to store each student's final letter grade for the semester. Use A, B, C, D, and F as grades per the standard grading scale.\n",
        "\n",
        "# letter_grades =\n",
        "\n",
        "\n",
        "\n",
        "# p 1.3) Create a list of honor roll students (i.e. students who got A's).\n",
        "\n",
        "# honor_roll"
      ]
    },
    {
      "cell_type": "markdown",
      "metadata": {
        "id": "MCNDPP2iUNgj"
      },
      "source": [
        "\n",
        "\n",
        "### P3.PY\n",
        "\n",
        "\n"
      ]
    },
    {
      "cell_type": "code",
      "execution_count": null,
      "metadata": {
        "id": "f0Qt-0jYUNgk"
      },
      "outputs": [],
      "source": [
        "\"\"\"\n",
        "Price Inventory\n",
        "\"\"\"\n",
        "\n",
        "# Imagine you're the owner of an Italian restaurant. You're evaluating your pricing to make sure it's up to date with the latest costs of making each menu item (see the menu prices and costs dicts below). Evaluate whether each item's price returns a profit margin of at least $1.00. If it doesn't, update the menu_prices dict with a new price that gives the item a $1.00 profit margin. Then print out the items which you've repriced in a new dict called price_increases.\n",
        "\n",
        "menu_prices = {\n",
        "\t'fettuccine bolognese': 14.99,\n",
        "\t'gnocchi gorgonzola': 10.99,\n",
        "\t'chicken parmigiano': 13.99,\n",
        "\t'butternut squash risotto': 9.99,\n",
        "\t'spaghetti carbonara': 12.99,\n",
        "\t'pizza margherita': 12.99,\n",
        "\t'chicken marsala': 13.99\n",
        "}\n",
        "\n",
        "menu_costs = {\n",
        "\t'fettuccine bolognese': 12.50,\n",
        "\t'gnocchi gorgonzola': 11.25,\n",
        "\t'chicken parmigiano': 11.75,\n",
        "\t'butternut squash risotto': 6.33,\n",
        "\t'spaghetti carbonara': 12.90,\n",
        "\t'pizza margherita': 14.00,\n",
        "\t'chicken marsala': 11.75\n",
        "}\n",
        "\n",
        "# price_increases =\n",
        "\n"
      ]
    },
    {
      "cell_type": "markdown",
      "metadata": {
        "id": "wfSUsTMZUNgk"
      },
      "source": [
        "\n",
        "\n",
        "## CONTROL_FLOW\n",
        "\n",
        "### P1.PY\n",
        "\n",
        "\n"
      ]
    },
    {
      "cell_type": "code",
      "execution_count": null,
      "metadata": {
        "id": "vkKX2PRIUNgk"
      },
      "outputs": [],
      "source": [
        "\"\"\"\n",
        "Control Flow - I\n",
        "\"\"\"\n",
        "\n",
        "# Print the numbers in the range (5:12) until you find a factor of 4. If the range the user enters contains no factors of 4, print \"There are no factors of 4 in this interval.\"\n",
        "# HINT: for the range 5,12 there will likely be multiples of 4 present - to assert the final requirement, try changing range boundaries\n",
        "\n",
        "\n"
      ]
    },
    {
      "cell_type": "markdown",
      "metadata": {
        "id": "X5Os8JBlUNgl"
      },
      "source": [
        "\n",
        "\n",
        "### P2.PY\n",
        "\n",
        "\n"
      ]
    },
    {
      "cell_type": "code",
      "execution_count": null,
      "metadata": {
        "id": "QdKP_r73UNgl"
      },
      "outputs": [],
      "source": [
        "\"\"\"\n",
        "Control Flow II\n",
        "\"\"\"\n",
        "\n",
        "# Write a Python program that prints all the numbers from 0 to 6 except 3 and 6. Note : Use 'continue' statement.\n",
        "\n"
      ]
    },
    {
      "cell_type": "markdown",
      "metadata": {
        "id": "drjjsmRNUNgl"
      },
      "source": [
        "\n",
        "\n",
        "## SHAPES\n",
        "\n",
        "### P1.PY\n",
        "\n",
        "\n"
      ]
    },
    {
      "cell_type": "code",
      "execution_count": null,
      "metadata": {
        "id": "Re0TiFuqUNgl"
      },
      "outputs": [],
      "source": [
        "\"\"\"\n",
        "Build a Triangle\n",
        "\"\"\"\n",
        "\n",
        "# Use a while loop to print a 5-level triangle of stars that looks like this:\n",
        "\n",
        "\"\"\"\n",
        "*\n",
        "**\n",
        "***\n",
        "****\n",
        "*****\n",
        "\"\"\"\n"
      ]
    },
    {
      "cell_type": "markdown",
      "metadata": {
        "id": "alo2XOXxUNgm"
      },
      "source": [
        "\n",
        "\n",
        "### P2.PY\n",
        "\n",
        "\n"
      ]
    },
    {
      "cell_type": "code",
      "execution_count": null,
      "metadata": {
        "id": "oGmP0_38UNgm"
      },
      "outputs": [],
      "source": [
        "\"\"\"\n",
        "Build a Pyramid\n",
        "\"\"\"\n",
        "\n",
        "# Use a while loop to print a pyramid of stars that looks like this:\n",
        "\n",
        "\"\"\"\n",
        "    *\n",
        "   ***\n",
        "  *****\n",
        " *******\n",
        "*********\n",
        "\"\"\"\n",
        "\n"
      ]
    },
    {
      "cell_type": "markdown",
      "metadata": {
        "id": "pmW6RY2MUNgm"
      },
      "source": [
        "\n",
        "\n",
        "### P3.PY\n",
        "\n",
        "\n"
      ]
    },
    {
      "cell_type": "code",
      "execution_count": null,
      "metadata": {
        "id": "wRPg8mdTUNgn"
      },
      "outputs": [],
      "source": [
        "\"\"\"\n",
        "Build a Diamond\n",
        "\"\"\"\n",
        "\n",
        "# Use a while loop to print a diamond of stars that looks like this:\n",
        "\n",
        "\"\"\"\n",
        "    *\n",
        "   ***\n",
        "  *****\n",
        " *******\n",
        "*********\n",
        " *******\n",
        "  *****\n",
        "   ***\n",
        "    *\n",
        "\"\"\"\n"
      ]
    },
    {
      "cell_type": "markdown",
      "metadata": {
        "id": "4rjbhoe5UNgn"
      },
      "source": [
        "\n",
        "\n",
        "## LOOP_CHALLENGES\n",
        "\n",
        "### P1.PY\n",
        "\n",
        "\n"
      ]
    },
    {
      "cell_type": "code",
      "execution_count": null,
      "metadata": {
        "id": "AEgJlhYbUNgn"
      },
      "outputs": [],
      "source": [
        "\"\"\"\n",
        "Valid Passwords\n",
        "\"\"\"\n",
        "\n",
        "# Check the validity of password input by users based on the below security requirements: At least 1 letter between [a-z] and 1 letter between [A-Z].\n",
        "\"\"\"\n",
        "# At least 1 letter between [a-z] and 1 letter between [A-Z].\n",
        "#At least 1 number between [0-9].\n",
        "At least 1 character from [$#@].\n",
        "Minimum length 6 characters.\n",
        "Maximum length 16 characters.\n",
        "\"\"\"\n",
        "\n",
        "\n",
        "# Hint: Look up the documentation for the \"re\" library and it's \".search()\" method.\n",
        "\n",
        "# p = input(\"Input your password: \")"
      ]
    },
    {
      "cell_type": "markdown",
      "metadata": {
        "id": "wWykDWhAUNgn"
      },
      "source": [
        "\n",
        "\n",
        "### P2.PY\n",
        "\n",
        "\n"
      ]
    },
    {
      "cell_type": "code",
      "execution_count": null,
      "metadata": {
        "id": "aM0OQ_P3UNgo"
      },
      "outputs": [],
      "source": [
        "\"\"\"\n",
        "Prime Numbers I\n",
        "\"\"\"\n",
        "\n",
        "# Check if a number input by a user is prime or not. If it is NOT a prime number, print out that it is not a prime number. If it IS a prime number, print out that it is a prime number and give an example of two of its factors. Hint: Prime numbers must be greater than 1.\n",
        "\n",
        "# Example of output for a NON-prime:\n",
        "# 12 is not a prime number\n",
        "# For example, 2 x 6 = 12\n",
        "\n",
        "\n",
        "\n",
        "# user_input = input(\"Enter a number to check if it's prime: \")\n",
        "\n"
      ]
    },
    {
      "cell_type": "markdown",
      "metadata": {
        "id": "32SimLLIUNgo"
      },
      "source": [
        "\n"
      ]
    }
  ],
  "metadata": {
    "colab": {
      "provenance": []
    },
    "language_info": {
      "name": "python"
    },
    "kernelspec": {
      "name": "python3",
      "display_name": "Python 3"
    }
  },
  "nbformat": 4,
  "nbformat_minor": 0
}