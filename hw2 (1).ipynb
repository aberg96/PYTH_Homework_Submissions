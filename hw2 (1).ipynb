{
  "cells": [
    {
      "cell_type": "markdown",
      "metadata": {
        "id": "xqtm213Js8Jk"
      },
      "source": [
        "<a href=\"https://colab.research.google.com/github/mottaquikarim/PYTH2/blob/master/src/PSETS/nb/conditionals_inclass_psets.ipynb\" target=\"_parent\"><img src=\"https://colab.research.google.com/assets/colab-badge.svg\" alt=\"Open In Colab\"/></a>"
      ]
    },
    {
      "cell_type": "markdown",
      "metadata": {
        "id": "g2jAT2QXs8Jn"
      },
      "source": [
        "#  CONDITIONALS\n",
        "\n",
        "## WEATHER\n",
        "\n",
        "### P1.PY\n",
        "\n",
        "\n"
      ]
    },
    {
      "cell_type": "code",
      "execution_count": null,
      "metadata": {
        "id": "v-CK0Mvms8Jo"
      },
      "outputs": [],
      "source": [
        "\"\"\"\n",
        "Weather I - Do you need boots?\n",
        "\"\"\"\n",
        "\n",
        "# Use the values of the vars defined below to ouput the correct contextual answer to the questions below. (Note: The variables themselves ARE the questions.)\n",
        "\n",
        "# Example:\n",
        "## am_i_hungry = False\n",
        "## am_i_tired = True\n",
        "## do_i_need_to_stay_awake = False\n",
        "\n",
        "## should_i_drink_coffee_now = am_i_tired and do_i_need_to_stay_awake\n",
        "\n",
        "## ^^ This ^^ evaluates to False. If you're tired and don't need to stay awake, you don't need to drink coffee!\n",
        "\n",
        "\n",
        "is_it_raining = True\n",
        "is_it_snowing = False\n",
        "\n",
        "\n",
        "do_i_need_snow_boots = is_it_snowing and not is_it_raining #is the and not necessary? unsure on the rest how to evaluate meaning if it's raining and snowing, which should I evaluate to? rain and snow boots?\n",
        "can_i_skip_snow_boots = not is_it_snowing\n",
        "do_i_need_rain_boots = is_it_raining\n",
        "can_i_skip_rain_boots = not is_it_raining"
      ]
    },
    {
      "cell_type": "markdown",
      "metadata": {
        "id": "9P9JLjLks8Jq"
      },
      "source": [
        "\n",
        "\n",
        "### P2.PY\n",
        "\n",
        "\n"
      ]
    },
    {
      "cell_type": "code",
      "execution_count": null,
      "metadata": {
        "id": "7Gyo9NjOs8Jq"
      },
      "outputs": [],
      "source": [
        "\"\"\"\n",
        "Weather II - Precipitation\n",
        "\"\"\"\n",
        "\n",
        "# Repeat the same process as p1, using this new set of variables.\n",
        "\n",
        "sunny = True\n",
        "raining = True\n",
        "snowing = False\n",
        "\n",
        "is_it_sunny = sunny and not (raining or snowing) #again, these \"definitions\" don't seem to be too straight forward meaning couldn't it be sunny and snowing?\n",
        "is_there_precipitation = raining or snowing\n",
        "is_it_sleeting = snowing and raining #could just be snowing here - again, just in terms of how things are defined\n",
        "is_there_rainbow = sunny # or is this supposed to be sunny and raining?"
      ]
    },
    {
      "cell_type": "markdown",
      "metadata": {
        "id": "DmWDQplps8Jq"
      },
      "source": [
        "\n",
        "\n",
        "### P3.PY\n",
        "\n",
        "\n"
      ]
    },
    {
      "cell_type": "code",
      "execution_count": null,
      "metadata": {
        "id": "_QY2O1_xs8Jr"
      },
      "outputs": [],
      "source": [
        "\"\"\"\n",
        "Weather III - Describe Conditions\n",
        "\"\"\"\n",
        "\n",
        "# Repeat the same process as p1, using this new set of variables.\n",
        "\n",
        "\n",
        "is_it_warm = True\n",
        "is_it_humid = True\n",
        "is_it_cold = False\n",
        "is_it_icy = False\n",
        "is_it_foggy = False\n",
        "is_it_windy = False\n",
        "is_it_overcast = True\n",
        "\n",
        "\n",
        "is_it_summer_weather = is_it_warm or (is_it_warm and is_it_humid) and not (is_it_cold or is_it_icy or is_it_foggy or is_it_windy or is_it_overcast) #where I am from (houston), warm + humid is definitely normal summer weather - so this would return true if it is warm and if it is warm and humid. false if the remaining functions\n",
        "is_rain_coming = is_it_overcast #not sure if you need more conditionals here - if there is overcast, wouldn't it mean to expect rain irrespective of everything else ie can be warm, humid, cold, icy, foggy and/or windy\n",
        "is_it_muggy = (is_it_warm and is_it_humid) and not (is_it_cold or is_it_icy) #since muggy is warm and humid, returns true if both exist. false should be anything else, but I just specified two use cases of cold or icy in this situation\n",
        "do_i_need_coat = is_it_cold or is_it_icy #do you need to specify more here? meaning do you need to be not (warm or humid or foggy etc)\n",
        "\n",
        "#I am basically unsure if 1) you are required to write out all possible scenarios or 2) you are expecting us to specify all possible scenarios even when one will override.\n",
        "\n"
      ]
    },
    {
      "cell_type": "markdown",
      "metadata": {
        "id": "D7jvhRsKs8Jr"
      },
      "source": [
        "\n",
        "\n",
        "## LOGIC\n",
        "\n",
        "### P1.PY\n",
        "\n",
        "\n"
      ]
    },
    {
      "cell_type": "code",
      "execution_count": 6,
      "metadata": {
        "id": "_syYfsiis8Jr",
        "colab": {
          "base_uri": "https://localhost:8080/"
        },
        "outputId": "0107bcee-7fc5-48c8-997d-d3f2484084fb"
      },
      "outputs": [
        {
          "output_type": "stream",
          "name": "stdout",
          "text": [
            "Try Harder\n"
          ]
        }
      ],
      "source": [
        "\"\"\"\n",
        "Calculate Grade\n",
        "\"\"\"\n",
        "\n",
        "grade = 15 # expect this to be a number\n",
        "\n",
        "# write a program that will print the \"letter\"\n",
        "# equivalent of the grade, for example:\n",
        "# when grade = 90 # -> expect A\n",
        "# when grade = 80 # -> expect B\n",
        "# when grade = 70 # -> expect C\n",
        "# when grade = 60 # -> expect D\n",
        "# when grade = 54 # -> expect F\n",
        "# when grade = -10 # -> expect Error\n",
        "# when grade = 10000 # -> expect Error\n",
        "# when grade = \"lol skool sucks\" # -> expect Error\n",
        "\n",
        "if grade >= 90 and grade <= 100:\n",
        "  print('expect A')\n",
        "\n",
        "elif grade >= 80 and grade < 90:\n",
        "  print('expect B')\n",
        "\n",
        "elif grade >= 70 and grade < 80:\n",
        "  print('expect C')\n",
        "\n",
        "elif grade >= 60 and grade < 70:\n",
        "  print('expect D')\n",
        "\n",
        "elif grade >= 54 and grade < 60:\n",
        "  print('expect F')\n",
        "\n",
        "elif grade >= 0 and grade < 54:  #added this as an additional range since I felt that a grade between 0 amd 54 should still return something as it likely wouldn't be a humar error made with defining the variable, just a bad grade. I decdied to define 0-100.\n",
        "  print('Try Harder')\n",
        "\n",
        "elif grade == -10:\n",
        "  print('expect Error')\n",
        "\n",
        "elif grade == 10000:\n",
        "  print('expect Error')\n",
        "\n",
        "elif grade == \"lol skool sucks\":\n",
        "  print('expect Error')\n",
        "\n",
        "else:\n",
        "  print('expect Error')\n",
        "\n",
        "#unsure if you wanted additional definition for defining ranges i.e. anything below 54 or above 100 printing expect error. same with the ranges of grades ie just 90 returning A verus 90-100 also else was undefined so I defined it\n",
        "\n"
      ]
    },
    {
      "cell_type": "markdown",
      "metadata": {
        "id": "g3WPe73Fs8Js"
      },
      "source": [
        "\n",
        "\n",
        "### P2.PY\n",
        "\n",
        "\n"
      ]
    },
    {
      "cell_type": "code",
      "execution_count": 45,
      "metadata": {
        "id": "tAOIQVA0s8Js",
        "colab": {
          "base_uri": "https://localhost:8080/"
        },
        "outputId": "dd09d672-0b5a-4530-e1ca-694dff3cde11"
      },
      "outputs": [
        {
          "output_type": "stream",
          "name": "stdout",
          "text": [
            "0\n"
          ]
        }
      ],
      "source": [
        "from re import X\n",
        "\"\"\"\n",
        "Sign of Product\n",
        "\"\"\"\n",
        "\n",
        "# Given three numbers, a, b, c, without multiplying, determine the sign of their product.\n",
        "\n",
        "# EXAMPLE: a = -5, b = 6, c = -4, print 1\n",
        "\n",
        "# EXAMPLE: a = 5, b = 6, c = -4, print -1\n",
        "\n",
        "#I am interpreting this as we need to find a way to determine whether it will be a positive or negative number if we were to multiply 3 numbers together, but without multiplying them. thus below, assuming no number is 0, then it will return + is all are positive. if 1 number is negative, it will return -\n",
        "#if 2 numbers are negative, it returns +. if 3 numbers are negative, it returns -. if any number is 0, it returns 0\n",
        "#this works, but is definitely not the most efficient way of doing so. attempted again below\n",
        "\n",
        "a = -1\n",
        "b = 3\n",
        "c = 2\n",
        "\n",
        "if a > 0 and b > 0 and c < 0:\n",
        "  print('-')\n",
        "\n",
        "elif a > 0 and c > 0 and b < 0:\n",
        "  print('-')\n",
        "\n",
        "elif a < 0 and b < 0 and c > 0:\n",
        "  print('+')\n",
        "\n",
        "elif c > 0 and b > 0 and a < 0:\n",
        "  print('-')\n",
        "\n",
        "elif c > 0 and b > 0 and a > 0:\n",
        "  print('+')\n",
        "\n",
        "elif a < 0 and b < 0 and c < 0:\n",
        "  print('-')\n",
        "\n",
        "elif a < 0 and b > 0 and c < 0:\n",
        "  print('+')\n",
        "\n",
        "elif a > 0 and b < 0 and c < 0:\n",
        "  print('+')\n",
        "\n",
        "else:\n",
        "  print('0')\n"
      ]
    },
    {
      "cell_type": "code",
      "source": [
        "#the above solution works, howeever I know there is a way to do it condensed and using lists as well as functions. this is my attempt below to do so, although it's not working.\n",
        "\n",
        "num = (a, b, c) #defining list as 3 variables\n",
        "\n",
        "a = {}\n",
        "b = {}\n",
        "c = {}\n",
        "\n",
        "neg = num.count('-') #assigning to count the number of - signs in the list\n",
        "\n",
        "zero = num.count('0') #same but zeros\n",
        "\n",
        "a = -2 #defining variables\n",
        "b = -3\n",
        "c = -4\n",
        "\n",
        "if zero > 0: #if the count of zeros is 1 (or more) it should return 0\n",
        "  print('0')\n",
        "\n",
        "elif neg == 1 or neg == 3: #if the count of negative numbers is 1 or 3, it should return -\n",
        "  print('-')\n",
        "\n",
        "else: #all other scenarios ie count of negatives is 2 or 0 and there are no zeros, it should return positive\n",
        "  print('+')"
      ],
      "metadata": {
        "colab": {
          "base_uri": "https://localhost:8080/"
        },
        "id": "Wovd_wBwzKZU",
        "outputId": "ee8f279c-87d4-4ab1-dc5b-31fad591c244"
      },
      "execution_count": 48,
      "outputs": [
        {
          "output_type": "stream",
          "name": "stdout",
          "text": [
            "+\n"
          ]
        }
      ]
    },
    {
      "cell_type": "markdown",
      "metadata": {
        "id": "rn_lgLbMs8Js"
      },
      "source": [
        "\n",
        "\n",
        "### P3.PY\n",
        "\n",
        "\n"
      ]
    },
    {
      "cell_type": "code",
      "execution_count": 82,
      "metadata": {
        "id": "Sv66gK21s8Js",
        "colab": {
          "base_uri": "https://localhost:8080/"
        },
        "outputId": "236bb8ee-dd54-4355-88f7-a3ee736c371a"
      },
      "outputs": [
        {
          "output_type": "stream",
          "name": "stdout",
          "text": [
            "False\n",
            "Test\n",
            "['T', 'e', 's', 't']\n",
            "True\n"
          ]
        }
      ],
      "source": [
        "\"\"\"\n",
        "Any Uppercase\n",
        "\"\"\"\n",
        "\n",
        "# Given a string str, determine if there are any uppercase values in it. Use only conditional statements and string methods (you may have to look some up!)\n",
        "\n",
        "# EXAMPLE: str = \"teSt\", print True\n",
        "\n",
        "str1 = 'tEst' #defining string\n",
        "uppercase = ['A', 'B', 'C', 'D', 'E', 'F', 'G', 'H', 'I', 'J', 'K', 'L', 'M', 'N', 'O', 'P', 'Q', 'R', 'S', 'T', 'U', 'V', 'W', 'X', 'Y', 'Z'] #defining all uppercase values as a list\n",
        "\n",
        "if uppercase.count(str1) > 0: #I am attempting to count whether or not any element of the list uppercase is present in the string. if the number is greater than 0, i would like for it to print 0. this is not working.\n",
        "  print('True')\n",
        "\n",
        "else:\n",
        "  print('False')\n",
        "\n",
        "#attempting another way below:\n",
        "\n",
        "str2 = 'Test'\n",
        "print(str2)\n",
        "str3 = list(str2) #converting string to list\n",
        "print(str3)\n",
        "\n",
        "if ('T' or 'E' or 'S') in str3:\n",
        "  print('True')\n",
        "\n",
        "else:\n",
        "  print('False')\n",
        "\n",
        "#this appears to work, however this is not functional. in googling, it appears to be as simple as isupper() functions"
      ]
    },
    {
      "cell_type": "markdown",
      "metadata": {
        "id": "IjgagKeAs8Jt"
      },
      "source": [
        "\n",
        "\n",
        "### P4.PY\n",
        "\n",
        "\n"
      ]
    },
    {
      "cell_type": "code",
      "execution_count": 98,
      "metadata": {
        "id": "jRE3las2s8Jt",
        "colab": {
          "base_uri": "https://localhost:8080/"
        },
        "outputId": "3f779f27-8bb5-449f-c7ee-4c21a550f5ee"
      },
      "outputs": [
        {
          "output_type": "stream",
          "name": "stdout",
          "text": [
            "                   a        a        \n",
            "37\n",
            "a        a\n",
            "10\n",
            "False\n"
          ]
        }
      ],
      "source": [
        "\"\"\"\n",
        "Empty Strings\n",
        "\"\"\"\n",
        "\n",
        "# Given any empty string, of the form:\n",
        "\n",
        "# ''\n",
        "# ' '\n",
        "# '  '\n",
        "# any other num of spaces...\n",
        "\n",
        "# determine if the str is empty or not (print True or False). Hint: You'll need to look up how to remove trailing spaces from a string.\n",
        "\n",
        "str = '                   a        a        ' #defining string with spaces and a single element\n",
        "\n",
        "print(str) #printing each step to follow the work\n",
        "\n",
        "print(len(str)) #confirming initial length\n",
        "\n",
        "str2 = str.strip() #removing all leading/trailing spaces\n",
        "\n",
        "print(str2) #checking the new string which is defined as the original one without spaces\n",
        "\n",
        "print(len(str2)) #checking the length which is 0 or more. each element being a value. if just spaces, it returns 0\n",
        "\n",
        "if len(str2) > 0: #if there is a value, returns false meaning it is not empty\n",
        "  print('False')\n",
        "\n",
        "else: #without a value, returns true meaning yes, empty. these are interchangeable. above, I could have done if len(str2) == 0: print('True')\n",
        "  print('True')\n",
        "\n",
        "\n"
      ]
    },
    {
      "cell_type": "markdown",
      "metadata": {
        "id": "BVgavFx8s8Jt"
      },
      "source": [
        "\n",
        "\n",
        "### P5.PY\n",
        "\n",
        "\n"
      ]
    },
    {
      "cell_type": "code",
      "execution_count": 121,
      "metadata": {
        "id": "DKyAJtVYs8Jt",
        "colab": {
          "base_uri": "https://localhost:8080/"
        },
        "outputId": "14e5343e-d79d-468c-b668-eeb7dd4397ad"
      },
      "outputs": [
        {
          "output_type": "stream",
          "name": "stdout",
          "text": [
            "True\n",
            "True\n",
            "True\n",
            "True\n"
          ]
        }
      ],
      "source": [
        "\"\"\"\n",
        "truthTableEvaluator\n",
        "\"\"\"\n",
        "\n",
        "# Given the following inputs:\n",
        "\n",
        "\n",
        "# P = # True or False\n",
        "# Q = # True or False\n",
        "# op = # '^' (logical AND, conjunction)\n",
        "#      # OR, 'v' (logical OR, disjunction)\n",
        "#      # OR, '->' (logical conditional, implication)\n",
        "#      # OR, '<->' (biconditional)\n",
        "# determine the correct outcome.\n",
        "\n",
        "# https://medium.com/i-math/intro-to-truth-tables-boolean-algebra-73b331dd9b94\n",
        "\n",
        "#I am unsure how to tie all of these together, so I am breaking down the different scenarios for each function ('^', 'v', '->', '<->')\n",
        "P = True or False\n",
        "Q = True or False\n",
        "\n",
        "op1 = '^'\n",
        "\n",
        "if P and Q == True:\n",
        "  print('True')\n",
        "\n",
        "else: #the remaining functions can be simplified down to else: print('False') as that will cover P == True and Q == False; P == False and Q == True; P and Q == False\n",
        "  print('False')\n",
        "\n",
        "op2 = 'v'\n",
        "\n",
        "if (P and Q == True) or (P or Q == True):\n",
        "  print('True')\n",
        "\n",
        "else:\n",
        "  print('False')\n",
        "\n",
        "op3 = '->'\n",
        "\n",
        "P1 = True or False #I am using P1 as a new variable in place of ~P\n",
        "\n",
        "if P == True:\n",
        "  P1 == False\n",
        "\n",
        "if P == False:\n",
        "  P1 == True\n",
        "\n",
        "if Q or P1 == True:\n",
        "  print('True')\n",
        "\n",
        "else: #within logical, conditional and implication - all results return True if either ~P or Q is True. the only situation where it returns False is when both ~P and Q are false\n",
        "  print('False')\n",
        "\n",
        "op4 = '<->' #within bicodntional, it returns True when P and Q are either both True or both False. If they do not match, it returns False which I attempted to express below\n",
        "\n",
        "if P == Q:\n",
        "  print('True')\n",
        "\n",
        "if P != Q:\n",
        "  print('False')"
      ]
    },
    {
      "cell_type": "markdown",
      "metadata": {
        "id": "O3-pAiVvs8Jt"
      },
      "source": [
        "\n",
        "\n",
        "## RANDOM_NUMS\n",
        "\n",
        "### P1.PY\n",
        "\n",
        "\n"
      ]
    },
    {
      "cell_type": "code",
      "execution_count": 123,
      "metadata": {
        "id": "kuchIYods8Jt",
        "colab": {
          "base_uri": "https://localhost:8080/"
        },
        "outputId": "2ec8098a-6697-4b37-f702-84d778806ecb"
      },
      "outputs": [
        {
          "output_type": "stream",
          "name": "stdout",
          "text": [
            "3\n",
            "yellow\n"
          ]
        }
      ],
      "source": [
        "\"\"\"\n",
        "Generate Traffic Light\n",
        "\"\"\"\n",
        "\n",
        "# import python random package\n",
        "import random\n",
        "\n",
        "\n",
        "# generates a random number from 1 to 3\n",
        "\n",
        "from random import randint\n",
        "\n",
        "randn = random.randint(1, 3)\n",
        "\n",
        "print(randn)\n",
        "\n",
        "if randn == 1:\n",
        "  print('red')\n",
        "\n",
        "if randn == 2:\n",
        "  print('green')\n",
        "\n",
        "if randn == 3:\n",
        "  print('yellow')\n",
        "\n",
        "# if 1, print 'red'\n",
        "# if 2, print 'green',\n",
        "# if 3, print 'yellow'\n"
      ]
    },
    {
      "cell_type": "markdown",
      "metadata": {
        "id": "z_SGFmIZs8Ju"
      },
      "source": [
        "\n",
        "\n",
        "### P2.PY\n",
        "\n",
        "\n"
      ]
    },
    {
      "cell_type": "code",
      "execution_count": 157,
      "metadata": {
        "id": "nrV7AD7Ws8Ju",
        "colab": {
          "base_uri": "https://localhost:8080/"
        },
        "outputId": "5ddf57d7-b8be-4273-ba41-9633ef5f9325"
      },
      "outputs": [
        {
          "output_type": "stream",
          "name": "stdout",
          "text": [
            "1- 646 - 13 - 656\n",
            "1- 646 - 8 8 1 - 2 0 1 4\n"
          ]
        }
      ],
      "source": [
        "\"\"\"\n",
        "Generate Phone Number w/Area Code\n",
        "\"\"\"\n",
        "\n",
        "# import python random package\n",
        "import random\n",
        "\n",
        "# generate a random phone number of the form:\n",
        "# 1-718-786-2825\n",
        "# This should be a string\n",
        "# Valid Area Codes are: 646, 718, 212\n",
        "# if phone number doesn't have [646, 718, 212]\n",
        "# as area code, pick one of the above at random\n",
        "from random import randint\n",
        "from random import choice\n",
        "\n",
        "area_code = [646, 718, 212]\n",
        "\n",
        "second = randint(0, 100)\n",
        "\n",
        "third = randint(0, 1000)\n",
        "\n",
        "print(f'1-', choice(area_code), '-', second, '-', third) #this is not working for me as it is not displaying 0s thus it is not a complete number. I'm going to do it in longform as i cannot figure out the work around\n",
        "\n",
        "a = randint(0, 9)\n",
        "b = randint(0, 9)\n",
        "c = randint(0, 9)\n",
        "d = randint(0, 9)\n",
        "e = randint(0, 9)\n",
        "f = randint(0, 9)\n",
        "g = randint(0, 9)\n",
        "\n",
        "print(f'1-', choice(area_code), '-', a, b, c, '-', d, e, f, g) #this solves the problem, but is obviously highly inefficient"
      ]
    },
    {
      "cell_type": "markdown",
      "metadata": {
        "id": "_HUjO5pRs8Ju"
      },
      "source": [
        "\n"
      ]
    }
  ],
  "metadata": {
    "colab": {
      "provenance": []
    },
    "language_info": {
      "name": "python"
    },
    "kernelspec": {
      "name": "python3",
      "display_name": "Python 3"
    }
  },
  "nbformat": 4,
  "nbformat_minor": 0
}