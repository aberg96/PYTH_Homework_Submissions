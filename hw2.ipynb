{
  "cells": [
    {
      "cell_type": "markdown",
      "metadata": {
        "id": "xqtm213Js8Jk"
      },
      "source": [
        "<a href=\"https://colab.research.google.com/github/mottaquikarim/PYTH2/blob/master/src/PSETS/nb/conditionals_inclass_psets.ipynb\" target=\"_parent\"><img src=\"https://colab.research.google.com/assets/colab-badge.svg\" alt=\"Open In Colab\"/></a>"
      ]
    },
    {
      "cell_type": "markdown",
      "metadata": {
        "id": "g2jAT2QXs8Jn"
      },
      "source": [
        "#  CONDITIONALS\n",
        "\n",
        "## WEATHER\n",
        "\n",
        "### P1.PY\n",
        "\n",
        "\n"
      ]
    },
    {
      "cell_type": "code",
      "execution_count": 9,
      "metadata": {
        "id": "v-CK0Mvms8Jo"
      },
      "outputs": [],
      "source": [
        "\"\"\"\n",
        "Weather I - Do you need boots?\n",
        "\"\"\"\n",
        "\n",
        "# Use the values of the vars defined below to ouput the correct contextual answer to the questions below. (Note: The variables themselves ARE the questions.)\n",
        "\n",
        "# Example:\n",
        "## am_i_hungry = False\n",
        "## am_i_tired = True\n",
        "## do_i_need_to_stay_awake = False\n",
        "\n",
        "## should_i_drink_coffee_now = am_i_tired and do_i_need_to_stay_awake\n",
        "\n",
        "## ^^ This ^^ evaluates to False. If you're tired and don't need to stay awake, you don't need to drink coffee!\n",
        "\n",
        "\n",
        "is_it_raining = True\n",
        "is_it_snowing = False\n",
        "\n",
        "\n",
        "do_i_need_snow_boots = is_it_snowing and not is_it_raining #is the and not necessary? unsure on the rest how to evaluate meaning if it's raining and snowing, which should I evaluate to? rain and snow boots?\n",
        "can_i_skip_snow_boots = not is_it_snowing\n",
        "do_i_need_rain_boots = is_it_raining\n",
        "can_i_skip_rain_boots = not is_it_raining"
      ]
    },
    {
      "cell_type": "markdown",
      "metadata": {
        "id": "9P9JLjLks8Jq"
      },
      "source": [
        "\n",
        "\n",
        "### P2.PY\n",
        "\n",
        "\n"
      ]
    },
    {
      "cell_type": "code",
      "execution_count": 12,
      "metadata": {
        "id": "7Gyo9NjOs8Jq"
      },
      "outputs": [],
      "source": [
        "\"\"\"\n",
        "Weather II - Precipitation\n",
        "\"\"\"\n",
        "\n",
        "# Repeat the same process as p1, using this new set of variables.\n",
        "\n",
        "sunny = True\n",
        "raining = True\n",
        "snowing = False\n",
        "\n",
        "is_it_sunny = sunny and not (raining or snowing) #again, these \"definitions\" don't seem to be too straight forward meaning couldn't it be sunny and snowing?\n",
        "is_there_precipitation = raining or snowing\n",
        "is_it_sleeting = snowing and raining #could just be snowing here - again, just in terms of how things are defined\n",
        "is_there_rainbow = sunny # or is this supposed to be sunny and raining?"
      ]
    },
    {
      "cell_type": "markdown",
      "metadata": {
        "id": "DmWDQplps8Jq"
      },
      "source": [
        "\n",
        "\n",
        "### P3.PY\n",
        "\n",
        "\n"
      ]
    },
    {
      "cell_type": "code",
      "execution_count": 18,
      "metadata": {
        "id": "_QY2O1_xs8Jr"
      },
      "outputs": [],
      "source": [
        "\"\"\"\n",
        "Weather III - Describe Conditions\n",
        "\"\"\"\n",
        "\n",
        "# Repeat the same process as p1, using this new set of variables.\n",
        "\n",
        "\n",
        "is_it_warm = True\n",
        "is_it_humid = True\n",
        "is_it_cold = False\n",
        "is_it_icy = False\n",
        "is_it_foggy = False\n",
        "is_it_windy = False\n",
        "is_it_overcast = True\n",
        "\n",
        "\n",
        "is_it_summer_weather = is_it_warm or (is_it_warm and is_it_humid) and not (is_it_cold or is_it_icy or is_it_foggy or is_it_windy or is_it_overcast) #where I am from (houston), warm + humid is definitely normal summer weather - so this would return true if it is warm and if it is warm and humid. false if the remaining functions\n",
        "is_rain_coming = is_it_overcast #not sure if you need more conditionals here - if there is overcast, wouldn't it mean to expect rain irrespective of everything else ie can be warm, humid, cold, icy, foggy and/or windy\n",
        "is_it_muggy = (is_it_warm and is_it_humid) and not (is_it_cold or is_it_icy) #since muggy is warm and humid, returns true if both exist. false should be anything else, but I just specified two use cases of cold or icy in this situation\n",
        "do_i_need_coat = is_it_cold or is_it_icy #do you need to specify more here? meaning do you need to be not (warm or humid or foggy etc)\n",
        "\n",
        "#I am basically unsure if 1) you are required to write out all possible scenarios or 2) you are expecting us to specify all possible scenarios even when one will override.\n",
        "\n"
      ]
    },
    {
      "cell_type": "markdown",
      "metadata": {
        "id": "D7jvhRsKs8Jr"
      },
      "source": [
        "\n",
        "\n",
        "## LOGIC\n",
        "\n",
        "### P1.PY\n",
        "\n",
        "\n"
      ]
    },
    {
      "cell_type": "code",
      "execution_count": 45,
      "metadata": {
        "id": "_syYfsiis8Jr",
        "colab": {
          "base_uri": "https://localhost:8080/"
        },
        "outputId": "42d200da-ee4e-495f-c56a-4a67ce3b5e01"
      },
      "outputs": [
        {
          "output_type": "stream",
          "name": "stdout",
          "text": [
            "expect Error\n"
          ]
        }
      ],
      "source": [
        "\"\"\"\n",
        "Calculate Grade\n",
        "\"\"\"\n",
        "\n",
        "grade = 10000 # expect this to be a number\n",
        "\n",
        "# write a program that will print the \"letter\"\n",
        "# equivalent of the grade, for example:\n",
        "# when grade = 90 # -> expect A\n",
        "# when grade = 80 # -> expect B\n",
        "# when grade = 70 # -> expect C\n",
        "# when grade = 60 # -> expect D\n",
        "# when grade = 54 # -> expect F\n",
        "# when grade = -10 # -> expect Error\n",
        "# when grade = 10000 # -> expect Error\n",
        "# when grade = \"lol skool sucks\" # -> expect Error\n",
        "\n",
        "if grade >= 90 and grade <= 100:\n",
        "  print('expect A')\n",
        "\n",
        "elif grade >= 80 and grade < 90:\n",
        "  print('expect B')\n",
        "\n",
        "elif grade >= 70 and grade < 80:\n",
        "  print('expect C')\n",
        "\n",
        "elif grade >= 60 and grade < 70:\n",
        "  print('expect D')\n",
        "\n",
        "elif grade >= 54 and grade < 60:\n",
        "  print('expect F')\n",
        "\n",
        "elif grade == -10:\n",
        "  print('expect Error')\n",
        "\n",
        "elif grade == 10000:\n",
        "  print('expect Error')\n",
        "\n",
        "elif grade == \"lol skool sucks\":\n",
        "  print('expect Error')\n",
        "\n",
        "else:\n",
        "  print('try again')\n",
        "\n",
        "#unsure if you wanted additional definition for defining ranges i.e. anything below 54 or above 100 printing expect error. also else was undefined so I defined it\n",
        "\n"
      ]
    },
    {
      "cell_type": "markdown",
      "metadata": {
        "id": "g3WPe73Fs8Js"
      },
      "source": [
        "\n",
        "\n",
        "### P2.PY\n",
        "\n",
        "\n"
      ]
    },
    {
      "cell_type": "code",
      "execution_count": null,
      "metadata": {
        "id": "tAOIQVA0s8Js"
      },
      "outputs": [],
      "source": [
        "\"\"\"\n",
        "Sign of Product\n",
        "\"\"\"\n",
        "\n",
        "# Given three numbers, a, b, c, without multiplying, determine the sign of their product.\n",
        "\n",
        "# EXAMPLE: a = -5, b = 6, c = -4, print 1\n",
        "\n",
        "# EXAMPLE: a = 5, b = 6, c = -4, print -1\n"
      ]
    },
    {
      "cell_type": "markdown",
      "metadata": {
        "id": "rn_lgLbMs8Js"
      },
      "source": [
        "\n",
        "\n",
        "### P3.PY\n",
        "\n",
        "\n"
      ]
    },
    {
      "cell_type": "code",
      "execution_count": null,
      "metadata": {
        "id": "Sv66gK21s8Js"
      },
      "outputs": [],
      "source": [
        "\"\"\"\n",
        "Any Uppercase\n",
        "\"\"\"\n",
        "\n",
        "# Given a string str, determine if there are any uppercase values in it. Use only conditional statements and string methods (you may have to look some up!)\n",
        "\n",
        "# EXAMPLE: str = \"teSt\", print True\n"
      ]
    },
    {
      "cell_type": "markdown",
      "metadata": {
        "id": "IjgagKeAs8Jt"
      },
      "source": [
        "\n",
        "\n",
        "### P4.PY\n",
        "\n",
        "\n"
      ]
    },
    {
      "cell_type": "code",
      "execution_count": null,
      "metadata": {
        "id": "jRE3las2s8Jt"
      },
      "outputs": [],
      "source": [
        "\"\"\"\n",
        "Empty Strings\n",
        "\"\"\"\n",
        "\n",
        "# Given any empty string, of the form:\n",
        "\n",
        "# ''\n",
        "# ' '\n",
        "# '  '\n",
        "# any other num of spaces...\n",
        "\n",
        "# determine if the str is empty or not (print True or False). Hint: You'll need to look up how to remove trailing spaces from a string.\n"
      ]
    },
    {
      "cell_type": "markdown",
      "metadata": {
        "id": "BVgavFx8s8Jt"
      },
      "source": [
        "\n",
        "\n",
        "### P5.PY\n",
        "\n",
        "\n"
      ]
    },
    {
      "cell_type": "code",
      "execution_count": null,
      "metadata": {
        "id": "DKyAJtVYs8Jt"
      },
      "outputs": [],
      "source": [
        "\"\"\"\n",
        "truthTableEvaluator\n",
        "\"\"\"\n",
        "\n",
        "# Given the following inputs:\n",
        "\n",
        "\n",
        "# P = # True or False\n",
        "# Q = # True or False\n",
        "# op = # '^' (logical AND, conjunction)\n",
        "#      # OR, 'v' (logical OR, disjunction)\n",
        "#      # OR, '->' (logical conditional, implication)\n",
        "#      # OR, '<->' (biconditional)\n",
        "# determine the correct outcome.\n",
        "\n",
        "# https://medium.com/i-math/intro-to-truth-tables-boolean-algebra-73b331dd9b94\n"
      ]
    },
    {
      "cell_type": "markdown",
      "metadata": {
        "id": "O3-pAiVvs8Jt"
      },
      "source": [
        "\n",
        "\n",
        "## RANDOM_NUMS\n",
        "\n",
        "### P1.PY\n",
        "\n",
        "\n"
      ]
    },
    {
      "cell_type": "code",
      "execution_count": null,
      "metadata": {
        "id": "kuchIYods8Jt"
      },
      "outputs": [],
      "source": [
        "\"\"\"\n",
        "Generate Traffic Light\n",
        "\"\"\"\n",
        "\n",
        "# import python random package\n",
        "\n",
        "\n",
        "# generates a random number from 1 to 3\n",
        "\n",
        "\n",
        "# if 1, print 'red'\n",
        "# if 2, print 'green',\n",
        "# if 3, print 'yellow'\n"
      ]
    },
    {
      "cell_type": "markdown",
      "metadata": {
        "id": "z_SGFmIZs8Ju"
      },
      "source": [
        "\n",
        "\n",
        "### P2.PY\n",
        "\n",
        "\n"
      ]
    },
    {
      "cell_type": "code",
      "execution_count": null,
      "metadata": {
        "id": "nrV7AD7Ws8Ju"
      },
      "outputs": [],
      "source": [
        "\"\"\"\n",
        "Generate Phone Number w/Area Code\n",
        "\"\"\"\n",
        "\n",
        "# import python random package\n",
        "\n",
        "\n",
        "# generate a random phone number of the form:\n",
        "# 1-718-786-2825\n",
        "# This should be a string\n",
        "# Valid Area Codes are: 646, 718, 212\n",
        "# if phone number doesn't have [646, 718, 212]\n",
        "# as area code, pick one of the above at random\n"
      ]
    },
    {
      "cell_type": "markdown",
      "metadata": {
        "id": "_HUjO5pRs8Ju"
      },
      "source": [
        "\n"
      ]
    }
  ],
  "metadata": {
    "colab": {
      "provenance": []
    },
    "language_info": {
      "name": "python"
    },
    "kernelspec": {
      "name": "python3",
      "display_name": "Python 3"
    }
  },
  "nbformat": 4,
  "nbformat_minor": 0
}