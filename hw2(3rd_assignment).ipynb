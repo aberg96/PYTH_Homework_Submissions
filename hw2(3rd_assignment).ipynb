{
  "cells": [
    {
      "cell_type": "markdown",
      "metadata": {
        "id": "uYM2Ld_XR8j9"
      },
      "source": [
        "<a href=\"https://colab.research.google.com/github/mottaquikarim/PYTH2/blob/master/src/PSETS/nb/hw2.ipynb\" target=\"_parent\"><img src=\"https://colab.research.google.com/assets/colab-badge.svg\" alt=\"Open In Colab\"/></a>"
      ]
    },
    {
      "cell_type": "markdown",
      "metadata": {
        "id": "YByVprUGR8j_"
      },
      "source": [
        "#  LISTS\n",
        "\n",
        "## LIST_MANIPULATION\n",
        "\n",
        "### P1.PY Phone Numbers\n"
      ]
    },
    {
      "cell_type": "code",
      "execution_count": null,
      "metadata": {
        "id": "0Q7oEm5gR8j_",
        "colab": {
          "base_uri": "https://localhost:8080/"
        },
        "outputId": "23604eac-b48c-4d7a-91b2-de01ca058e0a"
      },
      "outputs": [
        {
          "output_type": "stream",
          "name": "stdout",
          "text": [
            "['1', '1', '9', '2', '1', '6', '8', '0', '1', '4', '3']\n"
          ]
        }
      ],
      "source": [
        "\"\"\"\n",
        "Phone Numbers\n",
        "\"\"\"\n",
        "\n",
        "# Parse this phone number so that a computer can process\n",
        "# it. (Hint: It can't include any non-numeric\n",
        "# characters.)\n",
        "\n",
        "#I need to define a new element that makes the cell formatted as a list followed by writing a function to remove all periods.\n",
        "\n",
        "cell = '1.192.168.0143'\n",
        "\n",
        "num = list(cell)\n",
        "\n",
        "while '.' in num:\n",
        "  num.remove('.')\n",
        "\n",
        "print(num)"
      ]
    },
    {
      "cell_type": "markdown",
      "metadata": {
        "id": "sNE6mPlHR8kA"
      },
      "source": [
        "\n",
        "\n",
        "### P2.PY Basic Math Ops\n",
        "\n",
        "\n"
      ]
    },
    {
      "cell_type": "code",
      "execution_count": null,
      "metadata": {
        "id": "Bo9ZrK1DR8kA",
        "colab": {
          "base_uri": "https://localhost:8080/"
        },
        "outputId": "2b67aeef-a8d5-44cb-fa7a-bc0f63a312f8"
      },
      "outputs": [
        {
          "output_type": "stream",
          "name": "stdout",
          "text": [
            "my_sum = 174\n",
            "my_min = 2\n",
            "my_max = 30\n",
            "my_range = 28\n",
            "my_mean = 17.4\n"
          ]
        }
      ],
      "source": [
        "\"\"\"\n",
        "Basic Math Ops\n",
        "\"\"\"\n",
        "\n",
        "# Given the list below, assign the correct values to the variables below.\n",
        "\t# my_sum =\n",
        "\t# my_min =\n",
        "\t# my_max =\n",
        "\t# my_range =\n",
        "\t# my_mean =\n",
        "\n",
        "nums = [2, 19, 20, 12, 6, 24, 8, 30, 28, 25]\n",
        "\n",
        "my_sum = sum(nums)\n",
        "print('my_sum =', my_sum)\n",
        "\n",
        "my_min = min(nums)\n",
        "print('my_min =', my_min)\n",
        "\n",
        "my_max = max(nums)\n",
        "print('my_max =', my_max)\n",
        "\n",
        "my_range = max(nums) - min(nums)\n",
        "print('my_range =', my_range)\n",
        "\n",
        "my_mean = statistics.mean(nums)\n",
        "print('my_mean =', my_mean)\n",
        "\n",
        "# Once you finish, print out each value **on its own line** in this format: \"my_median = \" etc.\n",
        "\n"
      ]
    },
    {
      "cell_type": "markdown",
      "metadata": {
        "id": "7pSdVoDRR8kB"
      },
      "source": [
        "\n",
        "\n",
        "### P3.PY Merge Lists with Duplicates\n",
        "\n"
      ]
    },
    {
      "cell_type": "code",
      "execution_count": null,
      "metadata": {
        "id": "SILNHIDAR8kB",
        "colab": {
          "base_uri": "https://localhost:8080/"
        },
        "outputId": "40e18105-ca37-4929-dff5-3e86900c7d33"
      },
      "outputs": [
        {
          "output_type": "stream",
          "name": "stdout",
          "text": [
            "[2, 8, 6, 2, 8, 6]\n",
            "[2, 8, 6, 10, 4, 12]\n",
            "[13, 16, 19, 6, 2, 8, 6]\n",
            "{2, 4, 6, 8, 10, 12, 13, 16, 19}\n"
          ]
        }
      ],
      "source": [
        "\"\"\"\n",
        "Merge Lists with Duplicates\n",
        "\"\"\"\n",
        "\n",
        "# Use the two lists below to solve this problem. Print out the result from each section as you go along.\n",
        "\n",
        "list1, list2 = [2, 8, 6], [10, 4, 12]\n",
        "\n",
        "\n",
        "# A) Add another instance of each item in list1 to list1 again and assign the results to list3.\n",
        "list3 = list1*2\n",
        "print(list3)\n",
        "\n",
        "\n",
        "# B) Combine the two given lists and assign them to list4.\n",
        "list4 = list1 + list2\n",
        "print(list4)\n",
        "# i tried this with extend using list4 = list1.extend(list2) but when I went to print, it was not registering\n",
        "\n",
        "# C) Replace the first 3 items in list 3 with the numbers 13, 16, 9.\n",
        "list3[:2] = [13, 16, 19]\n",
        "print(list3)\n",
        "\n",
        "# D) Merge list3 and list4 to create a list containing no duplicates and store this in list5.\n",
        "list5 = set(list3 + list4)\n",
        "print(list5)\n",
        "\n",
        "\n",
        "# Take a look at your printed statements to see the evolution of your lists with each step of this problem.\n"
      ]
    },
    {
      "cell_type": "markdown",
      "metadata": {
        "id": "5_TMYx5gR8kC"
      },
      "source": [
        "\n",
        "\n",
        "### P4.PY Spotify Playlists - Sorting\n"
      ]
    },
    {
      "cell_type": "code",
      "execution_count": null,
      "metadata": {
        "id": "tYv3Sy1iR8kC",
        "colab": {
          "base_uri": "https://localhost:8080/"
        },
        "outputId": "26845027-4e60-4003-c023-d62fa851db5c"
      },
      "outputs": [
        {
          "output_type": "stream",
          "name": "stdout",
          "text": [
            "['At Last', 'Dancing in the Moonlight', 'Fortunate Son', 'Hey Jude', \"I'm Yours\", \"Isn't She Lovely\", 'Just the Way You Are', 'Roxanne', 'Tiny Dancer', 'Vienna']\n",
            "['Vienna', 'Tiny Dancer', 'Roxanne', 'Just the Way You Are', \"Isn't She Lovely\", \"I'm Yours\", 'Hey Jude', 'Fortunate Son', 'Dancing in the Moonlight', 'At Last']\n"
          ]
        }
      ],
      "source": [
        "\"\"\"\n",
        "Spotify Playlists - Sorting\n",
        "\"\"\"\n",
        "\n",
        "# You work for Spotify and are creating a feature for users to alphabetize their playlists by song title. Below is a list of titles from a sample playlist.\n",
        "\n",
        "playlist_titles = ['Tiny Dancer', 'At Last', 'Fortunate Son',\n",
        "'Hey Jude', 'Isn\\'t She Lovely', 'Just the Way You Are', 'I\\'m Yours',\n",
        "'Vienna', 'Roxanne', 'Dancing in the Moonlight']\n",
        "\n",
        "# Alphabetize these songs and print the result.\n",
        "playlist_titles.sort()\n",
        "print(playlist_titles)\n",
        "\n",
        "\n",
        "# Now do the reverse.\n",
        "playlist_titles.sort(reverse = True)\n",
        "print(playlist_titles)"
      ]
    },
    {
      "cell_type": "markdown",
      "metadata": {
        "id": "eHUkg2ngR8kC"
      },
      "source": [
        "\n",
        "\n",
        "### P5.PY Cool Runnings!\n"
      ]
    },
    {
      "cell_type": "code",
      "execution_count": null,
      "metadata": {
        "id": "80MW9rNbR8kC",
        "colab": {
          "base_uri": "https://localhost:8080/"
        },
        "outputId": "d14a716e-8a3c-4975-8b72-7746c3eeb882"
      },
      "outputs": [
        {
          "output_type": "stream",
          "name": "stdout",
          "text": [
            "Feel the rhythm.\n",
            "Feel the rhyme.\n",
            "Get on up.\n",
            "It's YOLO time!\n"
          ]
        }
      ],
      "source": [
        "\"\"\"\n",
        "Cool Runnings!\n",
        "\"\"\"\n",
        "\n",
        "# Here's a quote from the movie 'Cool Runnings'. :)\n",
        "\n",
        "# Replace the word bobsled with \"YOLO\" and print the resultant list as 4 sentences (i.e. NOT a list), each on a new line.\n",
        "\n",
        "cool_runnings = [\n",
        "\t'Feel', 'the', 'rhythm.',\n",
        "\t'Feel', 'the', 'rhyme.',\n",
        "\t'Get', 'on', 'up.',\n",
        "\t'It\\'s', 'bobsled', 'time!'\n",
        "]\n",
        "\n",
        "#bobseld is the 10th index. we will be replacing that with \"Yolo\". then I need to print indexes 0-2, 3-5, 6-8, 9-11 as their own sentences.\n",
        "\n",
        "cool_runnings[10] = 'YOLO'\n",
        "\n",
        "#s = ' '.join(cool_runnings)\n",
        "\n",
        "s1 = cool_runnings[:3]\n",
        "\n",
        "s11 = ' '.join(s1)\n",
        "\n",
        "print(s11)\n",
        "\n",
        "s2 = cool_runnings[3:6]\n",
        "\n",
        "s22 = ' '.join(s2)\n",
        "print(s22)\n",
        "\n",
        "s3 = cool_runnings[6:9]\n",
        "s33 = ' '.join(s3)\n",
        "print(s33)\n",
        "\n",
        "s4 = cool_runnings[9:12]\n",
        "s44 = ' '.join(s4)\n",
        "print(s44)"
      ]
    },
    {
      "cell_type": "markdown",
      "metadata": {
        "id": "n5sQT1oJR8kD"
      },
      "source": [
        "\n",
        "\n",
        "## LIST_CHALLENGES\n",
        "\n",
        "### P1.PY CHALLENGE - Extensions\n"
      ]
    },
    {
      "cell_type": "code",
      "execution_count": null,
      "metadata": {
        "id": "hR7MPbd2R8kD",
        "colab": {
          "base_uri": "https://localhost:8080/"
        },
        "outputId": "dacadfb5-b626-473e-e73c-831012fdd900"
      },
      "outputs": [
        {
          "output_type": "stream",
          "name": "stdout",
          "text": [
            "[15, 3, 6, 2, 1, 8]\n",
            "[6, 12, 9, 4, 10, 1, 15, 3, 6, 2, 1, 8]\n"
          ]
        }
      ],
      "source": [
        "\"\"\"\n",
        "CHALLENGE - Extensions\n",
        "\"\"\"\n",
        "\n",
        "# ** Challenge** Add each element of the tuple1 to list1 *individually* and print the result.\n",
        "\n",
        "list1 = [6, 12, 9, 4, 10, 1]\n",
        "tuple1 = [(15,3), (6,2), (1, 8)]\n",
        "\n",
        "#list(tuple1) - don't think this is doing anything\n",
        "\n",
        "#lt1 = list1\n",
        "\n",
        "#lt = list1 + tuple1\n",
        "\n",
        "#print(lt)\n",
        "\n",
        "#I played around with a few different functions and could not find a way to return as needed. i.e. I tried using join and split but had no luck\n",
        "\n",
        "#list1.extend(tuple1)\n",
        "\n",
        "#print(list1)\n",
        "\n",
        "#from class notes, extend is the function that I am supposed to be using instead of append but it is returning the same as above. I am going to do it in long form just to try and derive the correct answer\n",
        "\n",
        "t1 = tuple1[0][0]\n",
        "t2 = tuple1[0][1]\n",
        "t3 = tuple1[1][0]\n",
        "t4 = tuple1[1][1]\n",
        "t5 = tuple1[2][0]\n",
        "t6 = tuple1[2][1]\n",
        "\n",
        "tuple2 = [t1, t2, t3, t4, t5, t6]\n",
        "\n",
        "print(tuple2)\n",
        "\n",
        "list1.extend(tuple2)\n",
        "\n",
        "print(list1)\n",
        "\n",
        "#this is correct, but not efficient"
      ]
    },
    {
      "cell_type": "markdown",
      "metadata": {
        "id": "EcW10TIlR8kD"
      },
      "source": [
        "\n",
        "\n",
        "### P2.PY CHALLENGE - Core Statistics Calculations\n"
      ]
    },
    {
      "cell_type": "code",
      "execution_count": null,
      "metadata": {
        "id": "rufPz0v3R8kD",
        "colab": {
          "base_uri": "https://localhost:8080/"
        },
        "outputId": "2f5cf27f-162a-4b6b-a465-f57ae389ae6e"
      },
      "outputs": [
        {
          "output_type": "stream",
          "name": "stdout",
          "text": [
            "median = 19.5\n",
            "mode =  6\n",
            "variance =  84.17777777777778\n",
            "my_sd =  9.174844836714012\n"
          ]
        }
      ],
      "source": [
        "\"\"\"\n",
        "CHALLENGE - Core Statistics Calculations\n",
        "\"\"\"\n",
        "\n",
        "# Given the sample below, find the mean, median, mode, variance, and standard deviation of this sample. Print them out separately, but in the same format as before.\n",
        "\t# my_median =\n",
        "\t# my_mode =\n",
        "\t# my_variance =\n",
        "\t# my_sd =\n",
        "\n",
        "sample = [6, 19, 20, 12, 6, 24, 8, 30, 28, 25]\n",
        "\n",
        "from statistics import median as median\n",
        "from statistics import mode as mode\n",
        "from statistics import variance as variance\n",
        "from statistics import stdev as stdev\n",
        "\n",
        "my_median = median(sample)\n",
        "print('median =', my_median)\n",
        "\n",
        "my_mode = mode(sample)\n",
        "print('mode = ', my_mode)\n",
        "\n",
        "my_variance = variance(sample)\n",
        "print('variance = ', my_variance)\n",
        "\n",
        "my_sd = stdev(sample)\n",
        "print('my_sd = ', my_sd)\n",
        "\n",
        "\n",
        "# Once you finish, print out each value **on its own line** in this format: \"median = \" etc.\n"
      ]
    },
    {
      "cell_type": "markdown",
      "metadata": {
        "id": "a7cyp7HSR8kD"
      },
      "source": [
        "\n",
        "\n",
        "#  DICTS\n",
        "\n",
        "## DICT_OPS\n",
        "\n",
        "### P1.PY Basic Dict Concepts\n"
      ]
    },
    {
      "cell_type": "code",
      "execution_count": null,
      "metadata": {
        "id": "65FhbgwcR8kD",
        "colab": {
          "base_uri": "https://localhost:8080/"
        },
        "outputId": "e971e987-7d7b-4563-99e5-a0b17c6d0484"
      },
      "outputs": [
        {
          "output_type": "stream",
          "name": "stdout",
          "text": [
            "{}\n",
            "{'Anthony': 'Paollelo', 'Ping': 'Qiao', 'Enrique': 'Alvarez', 'Ajun': 'Dhir'}\n",
            "{'Anthony': 'Paollelo', 'Ping': 'Qiao', 'Enrique': 'Alvarez', 'Ajun': 'Dhir', 'Allison': 'Zhang'}\n",
            "5\n",
            "dict_keys(['Anthony', 'Ping', 'Enrique', 'Ajun', 'Allison'])\n",
            "('Allison', 'Zhang')\n",
            "{'Anthony': 'Paollelo', 'Ping': 'Qiao', 'Enrique': 'Alvarez', 'Ajun': 'Dhir'}\n",
            "{'Anthony': 'Paollelo', 'Ping': 'Qiao', 'Enrique': 'Alvarez', 'Ajun': 'Dhir', 'Allision': ['Zhang']}\n"
          ]
        }
      ],
      "source": [
        "\"\"\"\n",
        "Basic Dict Concepts\n",
        "\"\"\"\n",
        "\n",
        "# A) Declare an empty dict as d1.\n",
        "\n",
        "#d1 = {\n",
        " #   '' : ''\n",
        "#}\n",
        "\n",
        "d1 = dict() #this is correct\n",
        "\n",
        "print(d1)\n",
        "\n",
        "# B) Create a dict called d2 containing the first and last names below:\n",
        "# Anthony Paollelo, Ping Qiao, Enrique Alvarez, Arjun Dhir\n",
        "\n",
        "d2 = {\n",
        "    'Anthony' : 'Paollelo',\n",
        "    'Ping' : 'Qiao',\n",
        "    'Enrique' : 'Alvarez',\n",
        "    'Ajun' : 'Dhir'\n",
        "}\n",
        "\n",
        "print(d2)\n",
        "\n",
        "# C) Add Allison Zhang person to d2.\n",
        "\n",
        "d2['Allison'] = 'Zhang'\n",
        "\n",
        "print(d2)\n",
        "\n",
        "# D) How many people are now in d2? Print out all their *first* names in the vars below.\n",
        "\n",
        "### num_people =\n",
        "print(len(d2))\n",
        "\n",
        "### first_names =\n",
        "print(d2.keys())\n",
        "\n",
        "# E) Delete a random person from d2 and print his/her name in the var below.\n",
        "\n",
        "### x =\n",
        "\n",
        "delper = d2.popitem()\n",
        "\n",
        "print(delper)\n",
        "\n",
        "print(d2)\n",
        "# F) Re-add the name you deleted to the end of d2.\n",
        "\n",
        "d2['Allision'] = ['Zhang']\n",
        "\n",
        "#d2.update(delper) tried this way - did not work\n",
        "\n",
        "print(d2)\n",
        "\n"
      ]
    },
    {
      "cell_type": "markdown",
      "metadata": {
        "id": "vuFM-lChR8kD"
      },
      "source": [
        "\n",
        "\n",
        "### P2.PY Merging Dicts\n",
        "\n",
        "\n"
      ]
    },
    {
      "cell_type": "code",
      "execution_count": null,
      "metadata": {
        "id": "XFdvj2ClR8kD",
        "colab": {
          "base_uri": "https://localhost:8080/"
        },
        "outputId": "f95e8233-486b-49c3-e279-e2c3e3590419"
      },
      "outputs": [
        {
          "output_type": "stream",
          "name": "stdout",
          "text": [
            "{'a': 100, 'b': 200, 'c': 300, 'd': 400, 'e': 500}\n"
          ]
        }
      ],
      "source": [
        "\"\"\"\n",
        "Merging Dicts\n",
        "\"\"\"\n",
        "\n",
        "# Merge these two dicts without creating a new one.\n",
        "\n",
        "d1 = {'a': 100, 'b': 200}\n",
        "d2 = {'c': 300, 'd': 400, 'e': 500}\n",
        "\n",
        "d1.update(d2)\n",
        "\n",
        "print(d1)\n"
      ]
    },
    {
      "cell_type": "markdown",
      "metadata": {
        "id": "yFBEVpPYR8kD"
      },
      "source": [
        "\n",
        "\n",
        "### P3.PY Math with Girl Scout Cookies\n",
        "\n",
        "\n"
      ]
    },
    {
      "cell_type": "code",
      "execution_count": null,
      "metadata": {
        "id": "NNeC-1_6R8kD",
        "colab": {
          "base_uri": "https://localhost:8080/"
        },
        "outputId": "843b15ee-0f15-4be0-fdc1-674cf6035662"
      },
      "outputs": [
        {
          "output_type": "stream",
          "name": "stdout",
          "text": [
            "Wendy: 25\n",
            "Connie: 26\n",
            "Francesca: 42\n",
            "tagalongs: 33\n",
            "thin mints: 30\n",
            "samoas: 30\n",
            "tagalongs: 11.0\n",
            "thin mints: 10.0\n",
            "samoas: 10.0\n"
          ]
        }
      ],
      "source": [
        "\"\"\"\n",
        "Math with Girl Scout Cookies\n",
        "\"\"\"\n",
        "\n",
        "# Print out the number of boxes of girl scout cookies that each girl in the troop sold in the below format:\n",
        "\t# Wendy: _____\n",
        "\t# Connie: _____\n",
        "\t# Francesca: _____\n",
        "\n",
        "Wendy = {'tagalongs': 5, 'thin mints': 12, 'samoas': 8}\n",
        "Connie = {'tagalongs': 10, 'thin mints': 4, 'samoas': 12}\n",
        "Francesca = {'tagalongs': 18, 'thin mints': 14, 'samoas': 10}\n",
        "\n",
        "\n",
        "#print(F'Wendy:', sum(Wendy.values())) #i did it like this, but will do so defining variables.\n",
        "\n",
        "#print(F'Connie:', sum(Connie.values()))\n",
        "\n",
        "#print(F'Francesca:', sum(Francesca.values()))\n",
        "\n",
        "### salesW =\n",
        "### salesC =\n",
        "### salesF =\n",
        "\n",
        "salesW = sum(Wendy.values())\n",
        "\n",
        "salesC = sum(Connie.values())\n",
        "\n",
        "salesF = sum(Francesca.values())\n",
        "\n",
        "print('Wendy:', salesW)\n",
        "print('Connie:', salesC)\n",
        "print('Francesca:', salesF)\n",
        "\n",
        "\n",
        "# For each type of girl scout cookie, print out the total number of boxes sold in the below format:\n",
        "\t# tagalongs: _____\n",
        "\t# thin mints: _____\n",
        "\t# samoas: _____\n",
        "\n",
        "### total_tagalongs =\n",
        "### total_thinmints =\n",
        "### total_samoas =\n",
        "\n",
        "total_tagalongs = Wendy['tagalongs'] + Connie['tagalongs'] + Francesca['tagalongs']\n",
        "print('tagalongs:', total_tagalongs)\n",
        "\n",
        "total_thinmints = Wendy['thin mints'] + Connie['thin mints'] + Francesca['thin mints']\n",
        "print('thin mints:', total_thinmints)\n",
        "\n",
        "total_samoas = Wendy['samoas'] + Connie['samoas'] + Francesca['samoas']\n",
        "print('samoas:', total_samoas)\n",
        "\n",
        "# For each type of girl scout cookie, print out the average number of boxes sold in the below format:\n",
        "\t# tagalongs: _____\n",
        "\t# thin mints: _____\n",
        "\t# samoas: _____\n",
        "\n",
        "### avg_tagalongs =\n",
        "### avg_thinmints =\n",
        "### avg_samoas =\n",
        "\n",
        "avg_tagalongs = total_tagalongs/3\n",
        "print('tagalongs:', avg_tagalongs)\n",
        "\n",
        "avg_thinmints = total_thinmints/3\n",
        "print('thin mints:', avg_thinmints)\n",
        "\n",
        "avg_samoas = total_samoas/3\n",
        "print('samoas:', avg_samoas)\n",
        "\n",
        "# Print out total the number of boxes of cookies the girls sold collectively as follows:\n",
        "\t# \"This year we sold ______ boxes!\"\n",
        "\n",
        "### boxes_sold ="
      ]
    },
    {
      "cell_type": "markdown",
      "metadata": {
        "id": "XeuSn6BnR8kD"
      },
      "source": [
        "\n",
        "\n",
        "### P4.PY Inverting Keys & Values\n",
        "\n",
        "\n"
      ]
    },
    {
      "cell_type": "code",
      "execution_count": null,
      "metadata": {
        "id": "PfK3heiNR8kE",
        "colab": {
          "base_uri": "https://localhost:8080/"
        },
        "outputId": "b7a9dfdc-921e-4ac2-b874-b048bd16005f"
      },
      "outputs": [
        {
          "output_type": "stream",
          "name": "stdout",
          "text": [
            "{'v1': 'k3', 'v2': 'k2'}\n",
            "{'v1': 'k3', 'v2': 'k2'}\n"
          ]
        }
      ],
      "source": [
        "\"\"\"\n",
        "Inverting Keys & Values\n",
        "\"\"\"\n",
        "\n",
        "# Invert dict1 - make the current keys into values and the current values into keys.\n",
        "\n",
        "\n",
        "dict1 = { \"k1\" : \"v1\", \"k2\" : \"v2\", \"k3\" : \"v1\" }\n",
        "\n",
        "d1 = dict1\n",
        "\n",
        "#reverse_dict1 = {}\n",
        "\n",
        "#for key, value in dict1.items():\n",
        "  #reverse_dict1[value] = key\n",
        "#return reverse_dict1\n",
        "\n",
        "#above, i defined an empty dict then tried usuing a for loop to reverse the values but was getting a syntax error for 'return' outside function - trying again\n",
        "\n",
        "dict2 = {value: key for key, value in dict1.items()}\n",
        "\n",
        "print(dict2) #this is technically working, but it's not returning the first (now last) k/v of k1/v1. i think this may be because v1 is a duplicate element but I'm unsure. I could not figure out how to do this via memory/class notes so I used google.\n",
        "\n",
        "#reverse_dict = dict(zip(d1.values(), d1.keys()))\n",
        "\n",
        "#print(reverse_dict) - same result here using a different method"
      ]
    },
    {
      "cell_type": "markdown",
      "metadata": {
        "id": "RAbRQth4R8kE"
      },
      "source": [
        "\n",
        "\n",
        "### P5.PY Lists to Dicts\n",
        "\n",
        "\n"
      ]
    },
    {
      "cell_type": "code",
      "execution_count": null,
      "metadata": {
        "id": "Q985LObfR8kE",
        "colab": {
          "base_uri": "https://localhost:8080/"
        },
        "outputId": "16bf948b-087f-4a81-9290-ec0bf81bf846"
      },
      "outputs": [
        {
          "output_type": "stream",
          "name": "stdout",
          "text": [
            "{'Taq': [98, 89, 92, 94], 'Zola': [86, 45, 98, 100], 'Valerie': [76, 79, 80, 82]}\n"
          ]
        }
      ],
      "source": [
        "\"\"\"\n",
        "Lists to Dicts\n",
        "\"\"\"\n",
        "\n",
        "# Turn these two lists into a dict called grades.\n",
        "\n",
        "names = ['Taq', 'Zola', 'Valerie', 'Valerie']\n",
        "scores = [[98, 89, 92, 94], [86, 45, 98, 100], [100, 100, 100, 100], [76, 79, 80, 82]]\n",
        "\n",
        "### grades = define grades as a dict and then use zip to put together names (keys) and scores (values) -\n",
        "\n",
        "grades = dict(zip(names, scores))\n",
        "\n",
        "print(grades)"
      ]
    },
    {
      "cell_type": "markdown",
      "metadata": {
        "id": "UB9O7vAYR8kE"
      },
      "source": [
        "\n",
        "\n",
        "## SEARCH_VALIDATION\n",
        "\n",
        "### P1.PY Login Credentials\n",
        "\n",
        "\n"
      ]
    },
    {
      "cell_type": "code",
      "execution_count": null,
      "metadata": {
        "id": "2sGv6pWZR8kE",
        "colab": {
          "base_uri": "https://localhost:8080/"
        },
        "outputId": "e78d8354-f644-4cc7-cbc8-a78006ccb068"
      },
      "outputs": [
        {
          "output_type": "stream",
          "name": "stdout",
          "text": [
            "Succesful login!\n"
          ]
        }
      ],
      "source": [
        "from itertools import pairwise\n",
        "\"\"\"\n",
        "Login Credentials\n",
        "\"\"\"\n",
        "\n",
        "# Imagine you work for a movie streaming service. You're in charge of safeguarding user privacy by ensuring the login feature remains secure. For the sake of example only, below is the dict of user login info. Normally, you wouldn't have access to see this unencrypted of course!\n",
        "\n",
        "users = {\n",
        "\t'person@email.com': 'PassWord',\n",
        "\t'someone@email.com': 'hiitsme',\n",
        "\t'me@email.com': 'myPassword',\n",
        "\t'anyone@email.com': 'IMawesome',\n",
        "\t'guy@email.com': 'pa$$wordz'\n",
        "\t# etc\n",
        "}\n",
        "\n",
        "\n",
        "# A user enters the below login info (email and password) for your app. Search your database of user logins to see if this account exists and if the password matches what you have on file. If the login credentials are correct, print \"Successful login!\".\n",
        "#Otherwise, print \"The login info you entered does not match any of our records.\"\n",
        "\n",
        "#start by defining keys (emails) and values (passwords) - going to print as I go to ensure no errors / correct outputs.\n",
        "\n",
        "current_user = { 'me@email.com': 'myPassword' }\n",
        "\n",
        "#emails = users.keys()\n",
        "#print(emails)\n",
        "\n",
        "#pws = users.values()\n",
        "#print(pws)\n",
        "\n",
        "#email = current_user.keys()\n",
        "#pw = current_user.values()\n",
        "#print(email)\n",
        "#print(pw)\n",
        "\n",
        "#usnure this is required, don't think it is. i'd like to write a statement to express that while the current_user key is in the users keys, then move onto value. while current_user value is in users_values, then print succesful. when it's not, print unsuccesful.\n",
        "\n",
        "#while current_user.keys() == users.keys():\n",
        "\t#if current_user.values() == users.values():\n",
        "\t#\tprint('Succesful login!')\n",
        "\t#break\n",
        "#else:\n",
        "\t#print('The login info you entered does not match any of our records')\n",
        "\n",
        " #this is not working, going to try again.\n",
        "\n",
        "#while current_user.keys() in users.keys():\n",
        "#\tif current_user.values() in users.values():\n",
        "#\t\tprint('Succesful')\n",
        "#\tbreak\n",
        "#else:\n",
        "#\tprint('no')\n",
        "\n",
        "#also not working, getting unhashable type\n",
        "\n",
        "#for item in current_user:\n",
        "#\tif item in users:\n",
        "#\t\tif item in users:\n",
        "#\t\t\tprint('success')\n",
        "#\t\tbreak\n",
        "#else:\n",
        "#\tprint('no')\n",
        "\n",
        "#this is also not working. i tried doing this with key and value, but it wouldn't run without saying item. for item, it's only cross-referencing one item to return a success. i'm going back to my initial, long-form thought above to solve this\n",
        "\n",
        "#if email == emails and pw == pws:\n",
        "#\tprint('success')\n",
        "#else:\n",
        "#\tprint('no')\n",
        "\n",
        "#above not working cuz checking for all keys/values\n",
        "\n",
        "#if users.items() <= current_user.items():\n",
        "#\tprint('y')\n",
        "#else:\n",
        "#\tprint('n')\n",
        "\n",
        "if set(current_user.items()).issubset(users.items()):\n",
        "\tprint('Succesful login!')\n",
        "else:\n",
        "\tprint('The login info you entered does not match any of our records')\n",
        "\n",
        "#^after many attempts, this suffices - i found different potential ways to cross-check subsets. the next attempt was going to be to define a function which I believe may be correct/ the most efficient.\n",
        "\n",
        "def login_credentials(current_user, users):\n",
        "\twhile current_user.keys() in users.keys():\n",
        "\t\tif current_user.values() in users.values():\n",
        "\t\t\tprint('y')\n",
        "\telse:\n",
        "\t\tprint('n')\n",
        "\n",
        "\t#this is not working, but something along those lines\n"
      ]
    },
    {
      "cell_type": "markdown",
      "metadata": {
        "id": "-pBKBw3CR8kE"
      },
      "source": [
        "\n",
        "\n",
        "## COUNTERS_CHALLENGE\n",
        "\n",
        "### P1.PY CHALLENGE - Word Frequency\n",
        "\n",
        "\n"
      ]
    },
    {
      "cell_type": "code",
      "execution_count": null,
      "metadata": {
        "id": "tjQXH9SmR8kE",
        "colab": {
          "base_uri": "https://localhost:8080/"
        },
        "outputId": "0dc73123-018c-4cca-9bb2-ab46c1ecbd8e"
      },
      "outputs": [
        {
          "output_type": "stream",
          "name": "stdout",
          "text": [
            "total number of words = 13\n",
            "most common word and frequency is [('my', 2)]\n"
          ]
        }
      ],
      "source": [
        "\"\"\"\n",
        "CHALLENGE - Word Frequency\n",
        "\"\"\"\n",
        "\n",
        "# Print out the number of words in this movie quote. Find and print out the most common word in the quote and how many times it was used.\n",
        "### Hint: You do not need a loop for this. Look up the Counter docs in python3.\n",
        "\n",
        "from collections import Counter\n",
        "\n",
        "c = Counter.total\n",
        "\n",
        "princess_bride = [\n",
        "'Hello', 'my', 'name', 'is', 'Inigo', 'Montoya',\n",
        "'You', 'killed', 'my', 'father',\n",
        "'Prepare', 'to', 'die'\n",
        "]\n",
        "\n",
        "### fave_word =\n",
        "\n",
        "word_number = Counter(princess_bride)\n",
        "\n",
        "print(f'total number of words =', sum(word_number.values())) #returns total words of 13\n",
        "\n",
        "print(f'most common word and frequency is', Counter(princess_bride).most_common(1)) #returns most common word 'my' and frequency '2'\n",
        "\n",
        "# p.s. You might use this to help analyze the most common topic in comments or reviews from your users to help understand the best places to improve you product."
      ]
    },
    {
      "cell_type": "markdown",
      "metadata": {
        "id": "eakOUM3vR8kE"
      },
      "source": [
        "\n",
        "\n",
        "### P2.PY CHALLENGE - Summing Dict Values\n",
        "\n",
        "\n"
      ]
    },
    {
      "cell_type": "code",
      "execution_count": null,
      "metadata": {
        "id": "Df__i_oJR8kE",
        "colab": {
          "base_uri": "https://localhost:8080/"
        },
        "outputId": "cc021848-348f-4c8c-cba9-890eee3bb353"
      },
      "outputs": [
        {
          "output_type": "stream",
          "name": "stdout",
          "text": [
            "{'apples': 14, 'bananas': 18, 'clementines': 8}\n"
          ]
        }
      ],
      "source": [
        "\"\"\"\n",
        "CHALLENGE - Summing Dict Values\n",
        "\"\"\"\n",
        "\n",
        "# Two Kindergarten teachers poll their classes for what fruit they want to eat for snacktime tomorrow. Only one of them is going shopping, so she needs to know how many of each fruit she needs to buy in total. Tally these up and assign them to the \"shopping_list\" dict.\n",
        "\n",
        "poll1 = {'apples': 8, 'bananas': 12}\n",
        "poll2 = {'apples': 6, 'bananas': 6, 'clementines': 8}\n",
        "\n",
        "### shopping_list =\n",
        "\n",
        "total_apples = poll1['apples'] + poll2['apples']\n",
        "total_bananas = poll1['bananas'] + poll2['bananas']\n",
        "total_clementines = poll2['clementines']\n",
        "\n",
        "shopping_list = {'apples': total_apples, 'bananas': total_bananas, 'clementines': total_clementines}\n",
        "\n",
        "print(shopping_list)\n"
      ]
    },
    {
      "cell_type": "markdown",
      "metadata": {
        "id": "oEAKkI8yR8kE"
      },
      "source": [
        "\n"
      ]
    }
  ],
  "metadata": {
    "colab": {
      "provenance": []
    },
    "language_info": {
      "name": "python"
    },
    "kernelspec": {
      "name": "python3",
      "display_name": "Python 3"
    }
  },
  "nbformat": 4,
  "nbformat_minor": 0
}