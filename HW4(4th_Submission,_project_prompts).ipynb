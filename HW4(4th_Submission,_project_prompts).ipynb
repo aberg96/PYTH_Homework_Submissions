{
  "nbformat": 4,
  "nbformat_minor": 0,
  "metadata": {
    "colab": {
      "provenance": []
    },
    "kernelspec": {
      "name": "python3",
      "display_name": "Python 3"
    },
    "language_info": {
      "name": "python"
    }
  },
  "cells": [
    {
      "cell_type": "markdown",
      "source": [
        "**General Assembly Project:**\n",
        "\n",
        "•\tI am planning to predict:\n",
        "o\tAny common trends with price for a given stock symbol on different days based on pricing market data – when is a good time to buy vs sell on a daily basis.\n",
        "o\tWhether or not I can accurately estimate the price of a stock symbol for 10 seconds trailing based on identified mid-prices and imbalances\n",
        "•\tI have access to private data which displays a specific stock symbol’s historical pricing data on a microsecond level over a 3 day period\n",
        "•\tI will need to organize raw data which will be taking into account a number of “known”, but unorganized variables including timestamps, orders (buy vs sell), actions, id, price and quantity. I will then use that data to build a potential order book that will be used to inform/make trading decisions\n",
        "•\tI chose this topic because it is relevant to both by professional and personal interests\n",
        "\n",
        "**Part 1. Generating order book data from raw updates**\n",
        "You will be given a set of csv files.  Each csv represents order updates for single date.  Each row contains a single order update in the market.\n",
        "Your task is to write a program which reads an input csv, builds/updates the aggregate order book for each order update, and outputs a new csv.  The output csv should contain one row per input row and, at a minimum, have the timestamp of each update, the price and total quantity of the best 5 levels with non-zero quantity on each side of the book, and the price and side of the update.  See the next section for a description of aggregate order book updating.\n",
        "\n",
        "For empty levels, quantity should be set to 0, and any price may be output.\n",
        "Each input csv contains the following fields:\n",
        "\n",
        "•\ttimestamp - the timestamp in microseconds since open of that day\n",
        "•\tside - the side of the order - either b for bid/buy or a for ask/sell\n",
        "•\taction - the action taken by the update.  Possible options are a (for add), d (for delete), m (for modify)\n",
        "•\tid - the id of the order, unique per (day, side) pair\n",
        "•\tprice - the price of the order\n",
        "•\tquantity - the quantity of the order\n",
        "\n",
        "To make it easier for us to communicate with you about your code, please name your output csv fields in the following way.  \n",
        "\n",
        "•\ttimestamp - the timestamp of the original update\n",
        "•\tprice - the price of the input row\n",
        "•\tside - the side of the input row\n",
        "•\tbp0 - the price of the top / highest level willing to buy\n",
        "•\tbq0 - the total quantity of the top/highest level willing to buy\n",
        "•\tbp1 - the price of the second highest level willing to buy\n",
        "•\tbq1 - the total quantity of the second highest level willing to buy\n",
        "•\t.. up to bp4, bq4\n",
        "•\tap0 - the price of the lowest level willing to sell\n",
        "•\taq0 - the total quantity of the lowest level willing to sell\n",
        "•\t... up to ap4, aq4\n",
        "\n",
        "For any book level that is not available, the price will be ignored and your program should fill in the quantity as 0.\n",
        "This program should be run on each input file to give one output file per day.  Each day should be run separately, and assume the order book begins empty at the start of each day/input file.  \n",
        "\n",
        "Order Book Updating\n",
        "The aggregate order book should, at each (price, side), keep track of the summed quantity of all open orders with that side and price.  A \"price level\" represents the information for a single (side, price) pair.   Bid/buy side price levels are sorted by price from highest price to lowest price, and ask/sell side price levels are sorted with lowest price first.  The \"best\" N levels on each side are the first N levels on each side according to this sorting/ordering.\n",
        "\n",
        "An order update with action of \"add\" means that a new order was entered, \"delete\" means an order was removed, and \"modify\" means that an order previously in the market had its quantity or price updated, and must be moved.\n",
        "Example update scenario:\n",
        "\n",
        "•\tThe book is initially empty.\n",
        "•\tAn order add update comes in (action=\"a\", id=1, side=\"b\", price=15, quantity=3).  The resulting book has a single buy price level at price=15 with qty=3.  In this case, we would expect the output row to have bp0=15 bq0=3, and all other book quantity fields (bq1, aq1, etc) to be = 0.\n",
        "•\tAn order add update comes in (action=\"a\", id=2, side=\"b\", price=15, quantity=5).  The resulting book has a single buy price level at price=15 with qty=8.  The resulting book fields in your output should be updated to have bq0=8\n",
        "•\tAn order modify update comes in (action=\"m\", id=1, side=\"b\", price=20, quantity=3).  The resulting book now has 2 buy price levels, one at price=20 with quantity 3 and one at 15, with quantity=5.  The resulting book fields in your output should be bp0=20, bq0=3, bp1=15, bq1=5, with all other book quantity fields (bq2, aq2, etc) being 0\n",
        "•\tAn order add update comes in with (action=\"a\", id=3, side=\"a\", price=30, quantity=1).  The resulting book has 2 buy price levels as before and a single ask level.  The output row should have the same book fields as the last row except with ap0=30 and aq0=1\n",
        "•\tAn order delete update comes in (action=\"d\", id=2, side=\"b\", price=15, quantity=5).  The resulting book now has a single buy and single sell price level.  The output should have bp0=20, bq0=3, ap0=30, aq0=1\n",
        "\n",
        "**Part 2A. **\n",
        "Based on the data, can you determine the mid-price at open and for each hourly interval in between? Between the two days of data, are there any consistencies in pricing that you have identified?\n",
        "\n",
        "**Part 2B. **\n",
        "Using the best bid and best ask to find the mid-price, can you make a prediction about what the mid-price will be in 10 seconds? Can utilize order imbalance to make the prediction\n"
      ],
      "metadata": {
        "id": "70U6CU_yI-j6"
      }
    },
    {
      "cell_type": "code",
      "execution_count": null,
      "metadata": {
        "id": "kajGLmfXI9rH"
      },
      "outputs": [],
      "source": []
    }
  ]
}