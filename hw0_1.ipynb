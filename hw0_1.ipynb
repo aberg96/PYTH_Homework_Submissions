{
  "nbformat": 4,
  "nbformat_minor": 0,
  "metadata": {
    "colab": {
      "provenance": []
    },
    "kernelspec": {
      "name": "python3",
      "display_name": "Python 3"
    },
    "language_info": {
      "name": "python"
    }
  },
  "cells": [
    {
      "cell_type": "markdown",
      "metadata": {
        "id": "MceN-vxTwsNT"
      },
      "source": [
        "#  BASIC DATA TYPES\n",
        "\n",
        "## BASICS\n",
        "\n",
        "### P1.PY\n",
        "\n",
        "\n"
      ]
    },
    {
      "cell_type": "code",
      "execution_count": null,
      "metadata": {
        "id": "FhGeDjDCxI3d"
      },
      "outputs": [],
      "source": [
        "\"\"\"\n",
        "Placeholders\n",
        "\"\"\"\n",
        "\n",
        "# You're writing a program, and you don't know what your starting value for your 'initial' variable is yet. The program won't run if you leave it blank, but you don't want to forget you need it! Make a workaround.\n",
        "\n",
        "initial_var = {} # {} is a placeholder, remember to come back to change the initial variable"
      ]
    },
    {
      "cell_type": "markdown",
      "metadata": {
        "id": "Bt5Mhj-iznWt"
      },
      "source": [
        "\n",
        "\n",
        "### P2.PY\n",
        "\n",
        "\n"
      ]
    },
    {
      "cell_type": "code",
      "source": [
        "\"\"\"\n",
        "Basic Variables\n",
        "\"\"\"\n",
        "\n",
        "# Create a variable that represents your favorite number, and add a note to remind yourself what this variable represents. Now print it out without re-typing the number.\n",
        "\n",
        "fav_num = 18 # 18 is my favorite number\n",
        "\n",
        "print(fav_num)\n",
        "\n",
        "# Create another variable that represents your favorite color, and do the same steps as above.\n",
        "\n",
        "fav_col = 'Blue' # Blue is my favorite color\n",
        "\n",
        "print(fav_col)"
      ],
      "metadata": {
        "id": "zCz1tazV3yXl"
      },
      "execution_count": null,
      "outputs": []
    },
    {
      "cell_type": "markdown",
      "metadata": {
        "id": "KaKAZpk0znWu"
      },
      "source": [
        "\n",
        "\n",
        "### P3.PY\n",
        "\n",
        "\n"
      ]
    },
    {
      "cell_type": "code",
      "source": [
        "\"\"\"\n",
        "String Formatting\n",
        "\"\"\"\n",
        "\n",
        "# Create a variable that contains the first 4 lines of your favorite song. Add a comment that includes the song title and artist **each on their own line**! Now print out this variable.\n",
        "\n",
        "fav_song = \"\"\"\n",
        "Long days, longer nights\n",
        "You keep startin' fights\n",
        "Think you always right\n",
        "Call you up to tell you I ain't comin' home tonight\n",
        "\"\"\"\n",
        "# song title is Missed Calls\n",
        "# artist is Mac Miller\n",
        "\n",
        "print(fav_song)"
      ],
      "metadata": {
        "id": "XrTmfRfF4Fcl"
      },
      "execution_count": null,
      "outputs": []
    },
    {
      "cell_type": "markdown",
      "source": [],
      "metadata": {
        "id": "P7th-QF37ubd"
      }
    },
    {
      "cell_type": "markdown",
      "metadata": {
        "id": "0-G-qs3_znWu"
      },
      "source": [
        "\n",
        "\n",
        "## TYPECASTING\n",
        "\n",
        "### P1.PY\n",
        "\n",
        "\n"
      ]
    },
    {
      "cell_type": "code",
      "source": [
        "\"\"\"\n",
        "Typcasting w. Integers & Floats\n",
        "\"\"\"\n",
        "\n",
        "# Convert these numbers into floats and back. Print out each result as well as its data type.\n",
        "\n",
        "five = 5\n",
        "zero = 0\n",
        "neg_8 = -8\n",
        "neg_22 = -22\n",
        "\n",
        "int_to_float = float(five) #I'm unsure if the conversion code is necessary? In coming back to this after completion, I believe I can omit all of the conversion code as it is not what is being ask/required in these situations, just using typecasting. last update = I'm realizing the float() function etc literlaly means int_to_float and that is not required\n",
        "int_to_float = float(zero) #I am leaving these in here even though I realized as I continued with the assessment that none of them are relevant nor required.\n",
        "int_to_float = float(neg_8)\n",
        "int_to_float = float(neg_22)\n",
        "\n",
        "print(float(five), type(float(five)))\n",
        "print(float(zero), type(float(zero)))\n",
        "print(float(neg_8), type(float(neg_8)))\n",
        "print(float(neg_22), type(float(neg_22)))\n",
        "\n",
        "float_to_int = int(five) #same here. can run with just the print functions and returns the same desired outcome)\n",
        "float_to_int = int(zero)\n",
        "float_to_int = int(neg_8)\n",
        "float_to_int = int(neg_22)\n",
        "\n",
        "print(five, type(five)) #is is necessary to write as format above? ie print(int(five), type(int(five))) - would return the same thing\n",
        "print(zero, type(zero))\n",
        "print(neg_8, type(neg_8))\n",
        "print(neg_22, type(neg_22))\n"
      ],
      "metadata": {
        "id": "Md2cOWis7v8R"
      },
      "execution_count": null,
      "outputs": []
    },
    {
      "cell_type": "markdown",
      "metadata": {
        "id": "hJsf64wKznWu"
      },
      "source": [
        "\n",
        "\n",
        "### P2.PY\n",
        "\n",
        "\n"
      ]
    },
    {
      "cell_type": "code",
      "source": [
        "\"\"\"\n",
        "Typcasting w. Strings\n",
        "\"\"\"\n",
        "\n",
        "# Convert these variables into strings and then back to their original data types. Print out each result as well as its data type. What do you notice about the last one?\n",
        "\n",
        "five = 5\n",
        "zero = 0\n",
        "neg_8 = -8\n",
        "T = True\n",
        "F = False\n",
        "\n",
        "int_to_string = str(five) # - leaving this all in here even though it is not relevant\n",
        "int_to_string = str(zero)\n",
        "int_to_string = str(neg_8)\n",
        "boolean_to_string = str(T)\n",
        "boolean_to_string = str(F)\n",
        "\n",
        "print(str(five), type(str(five)))\n",
        "print(str(zero), type(str(zero)))\n",
        "print(str(neg_8), type(str(neg_8)))\n",
        "print(str(T), type(str(T)))\n",
        "print(str(F), type(str(F)))\n",
        "\n",
        "string_to_int = int(five) # \"\"\n",
        "string_to_int = int(zero)\n",
        "string_to_int = int(neg_8)\n",
        "string_to_boolean = bool(T)\n",
        "string_to_boolean = bool(F)\n",
        "\n",
        "print(five, type(five)) #same as above in terms of comment. is the code redundant and do I need additional specifications? I can run with just the print functions and return without doing conversion\n",
        "print(zero, type(zero))\n",
        "print(neg_8, type(neg_8))\n",
        "print(T, type(T))\n",
        "print(F, type(F))  # don't notice much other than we are using integers and boolean to string (and vice versa) versus the prompt above which is integer to float and back"
      ],
      "metadata": {
        "id": "5M9GN1VHNeFG"
      },
      "execution_count": null,
      "outputs": []
    },
    {
      "cell_type": "markdown",
      "metadata": {
        "id": "KZWx4K9JznWu"
      },
      "source": [
        "\n",
        "\n",
        "### P3.PY\n",
        "\n",
        "\n"
      ]
    },
    {
      "cell_type": "code",
      "source": [
        "\"\"\"\n",
        "Booleans I - Typecasting w. Numbers\n",
        "\"\"\"\n",
        "\n",
        "# A) Use typecasting to turn these variables into boolean values. Print the result and the datatype of the result.\n",
        "\n",
        "one = 1\n",
        "zero = 0\n",
        "\n",
        "int_to_boolean = bool(one) #same question - is the conversion necessary or redundant? I'm going to complete the rest without using convert values\n",
        "int_to_boolean = bool(zero) #same as in above sections\n",
        "\n",
        "print(bool(one), type(bool(one)))\n",
        "print(bool(zero), type(bool(zero)))\n",
        "\n",
        "\n",
        "# B) Use typecasting to turn the resultant variables from part A into floats. Print the result and the datatype of the result.\n",
        "\n",
        "print(float(one), type(float(one)))\n",
        "print(float(zero), type(float(zero)))\n",
        "\n",
        "\n",
        "# C) Use typecasting to turn the resultant variables from part B back into booleans. Print the result and the datatype of the result.\n",
        "\n",
        "print(bool(one), type(bool(one)))\n",
        "print(bool(zero), type(bool(zero)))\n",
        "\n",
        "# D) Use typecasting to turn the resultant variables from part C into integers. Print the result and the datatype of the result.\n",
        "\n",
        "print(int(one), type(int(one)))\n",
        "print(int(zero), type(int(zero)))\n",
        "\n",
        "# E) Use typecasting to turn the variable below into a boolean value. Print the result and the datatype of the result.\n",
        "\n",
        "ten = 10\n",
        "\n",
        "print(bool(ten), type(bool(ten)))"
      ],
      "metadata": {
        "id": "vm9jnvi4U0ZQ"
      },
      "execution_count": null,
      "outputs": []
    },
    {
      "cell_type": "markdown",
      "metadata": {
        "id": "qbe5gU-yznWu"
      },
      "source": [
        "\n",
        "\n",
        "### P4.PY\n",
        "\n",
        "\n"
      ]
    },
    {
      "cell_type": "code",
      "source": [
        "\"\"\"\n",
        "Booleans II - Typecasting w. Strings\n",
        "\"\"\"\n",
        "\n",
        "# A) Use typecasting to turn these variables into boolean values. Print the result and the datatype of the result.\n",
        "\n",
        "one = 1\n",
        "zero = 0\n",
        "bool_true = True\n",
        "bool_false = False\n",
        "\n",
        "print(bool(one), type(bool(one)))\n",
        "print(bool(zero), type(bool(zero)))\n",
        "print(bool(bool_true), type(bool(bool_true)))\n",
        "print(bool(bool_false), type(bool(bool_false)))\n",
        "\n",
        "# B) Use typecasting to turn the latest values for variables 'one' and 'zero' back into integers. Print the result and the datatype of the result.\n",
        "\n",
        "print(int(one), type(int(one)))\n",
        "print(int(zero), type(int(zero)))\n",
        "\n",
        "# C) Use typecasting to turn the latest values for variables 'bool_true' and 'bool_false' back into boolean values. Print the result and the datatype of the result.\n",
        "\n",
        "print(bool(bool_true), type(bool(bool_true))) # is this required instead of just using print(bool_true, type(bool_true))\n",
        "print(bool(bool_false), type(bool(bool_false)))\n"
      ],
      "metadata": {
        "id": "4lyVezDBY8uS"
      },
      "execution_count": null,
      "outputs": []
    },
    {
      "cell_type": "markdown",
      "metadata": {
        "id": "wj0cKUILznWu"
      },
      "source": [
        "\n",
        "\n",
        "## OPERATORS\n",
        "\n",
        "### P1.PY\n",
        "\n",
        "\n"
      ]
    },
    {
      "cell_type": "code",
      "source": [
        "\"\"\"\n",
        "Integer & Float Operators\n",
        "\"\"\"\n",
        "\n",
        "# Complete the specified math operations. Do the next operation on the result from the previous operation.\n",
        "\n",
        "orig_var = 100\n",
        "\n",
        "# Add 50\n",
        "\n",
        "orig_var += 50\n",
        "\n",
        "print(orig_var)\n",
        "\n",
        "# Subtract 90\n",
        "\n",
        "orig_var -= 90\n",
        "\n",
        "print(orig_var)\n",
        "\n",
        "# Multiply 10\n",
        "\n",
        "orig_var *= 10\n",
        "\n",
        "print(orig_var)\n",
        "\n",
        "# Divide 150\n",
        "\n",
        "orig_var /= 150\n",
        "\n",
        "print(orig_var)\n",
        "\n",
        "# Modulus 3\n",
        "\n",
        "orig_var %= 3\n",
        "\n",
        "print(orig_var)"
      ],
      "metadata": {
        "id": "Nro9HNg6ap1n"
      },
      "execution_count": null,
      "outputs": []
    },
    {
      "cell_type": "markdown",
      "metadata": {
        "id": "KNFibRgUznWu"
      },
      "source": [
        "\n",
        "\n",
        "### P2.PY\n",
        "\n",
        "\n"
      ]
    },
    {
      "cell_type": "code",
      "source": [
        "\"\"\"\n",
        "String Operators\n",
        "\"\"\"\n",
        "\n",
        "# Create two variables, each of which is half of a compound sentence. Do NOT add any punctuation up front. Add the two variables together, and print the result.\n",
        "## Example compound sentence: \"I'll go to the beach today, and I'll go snorkeling.\"\n",
        "\n",
        "first = \"I want to walk my dog\"\n",
        "second = \"but it's raining\"\n",
        "\n",
        "print(first + ', ' + second + '.') # with punctuation"
      ],
      "metadata": {
        "id": "zBd-H530ccT6"
      },
      "execution_count": null,
      "outputs": []
    },
    {
      "cell_type": "markdown",
      "metadata": {
        "id": "vfOpUEO9znWu"
      },
      "source": [
        "\n",
        "\n",
        "### P3.PY\n",
        "\n",
        "\n"
      ]
    },
    {
      "cell_type": "code",
      "source": [
        "\"\"\"\n",
        "Addition I - Numbers & Strings\n",
        "\"\"\"\n",
        "\n",
        "# Add the below sets of variables together.\n",
        "\n",
        "# A)\n",
        "a = 0\n",
        "b = 2\n",
        "\n",
        "print(a + b) # formatted as addition\n",
        "\n",
        "print(a, b) # formatted as together\n",
        "\n",
        "print(str(a) + str(b)) # formatted as togher as strings - unsure what you wanted\n",
        "\n",
        "# B)\n",
        "c = '0'\n",
        "d = '2'\n",
        "\n",
        "print(c, d)\n",
        "\n",
        "print(c + d) # this is adding them together unformatted\n",
        "\n",
        "print(int(c) + int(d)) # adding them together formatted as integers\n",
        "\n",
        "print(str(c) + str(d)) # unsure what you wanted\n",
        "\n",
        "print(str(c), str(d)) # \"\"\n",
        "\n",
        "# C)\n",
        "e = \"0\"\n",
        "f = 2\n",
        "\n",
        "print(int(e) + f) # integer\n",
        "\n",
        "print(e, f)\n",
        "\n",
        "#unformatted would be print(e + f) which is an error"
      ],
      "metadata": {
        "colab": {
          "base_uri": "https://localhost:8080/"
        },
        "id": "yvS5c_MiqZG1",
        "outputId": "c398bb76-e8c6-4c4e-879a-583141ffc64b"
      },
      "execution_count": 49,
      "outputs": [
        {
          "output_type": "stream",
          "name": "stdout",
          "text": [
            "2\n",
            "0 2\n",
            "02\n",
            "0 2\n",
            "02\n",
            "2\n",
            "02\n",
            "0 2\n",
            "2\n",
            "0 2\n"
          ]
        }
      ]
    },
    {
      "cell_type": "markdown",
      "metadata": {
        "id": "OLpQJg7TznWv"
      },
      "source": [
        "\n",
        "\n",
        "### P4.PY\n",
        "\n",
        "\n"
      ]
    },
    {
      "cell_type": "code",
      "source": [
        "\"\"\"\n",
        "Addition II - Booleans\n",
        "\"\"\"\n",
        "\n",
        "# Add the below sets of variables together.\n",
        "\n",
        "# A)\n",
        "a = True\n",
        "b = True\n",
        "\n",
        "print(a + b) # from my perspective, it does not seem necessary to first convert these assuming we are looking for the value.\n",
        "\n",
        "print(str(a) + str(b)) #assuming we want the strings added, this would be the case\n",
        "\n",
        "print(str(a) + ' ' +str(b)) # \"\" but with formatting\n",
        "\n",
        "# B)\n",
        "c = False\n",
        "d = False\n",
        "\n",
        "print(c + d)\n",
        "\n",
        "# C)\n",
        "e = True\n",
        "f = False\n",
        "\n",
        "print(e + f)"
      ],
      "metadata": {
        "id": "2R0huQ9ArkPg"
      },
      "execution_count": null,
      "outputs": []
    }
  ]
}